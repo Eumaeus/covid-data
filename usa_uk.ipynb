{
 "cells": [
  {
   "cell_type": "markdown",
   "metadata": {},
   "source": [
    "# Perspectives on COVID-19: USA and UK\n",
    "\n",
    "I am curious about COVID-19, and this notebook is my effort to find context and perspective from responsible, public data.\n",
    "\n",
    "All data used is from:\n",
    "\n",
    "- [The *New York Times*](https://github.com/nytimes/covid-19-data)\n",
    "- [“Deaths and Mortality”, CDC](https://www.cdc.gov/nchs/fastats/deaths.htm)\n",
    "- [“Stats of the State of South Carolina”, CDC](https://www.cdc.gov/nchs/pressroom/states/southcarolina/southcarolina.htm)\n",
    "- [South Carolina Department of Health and Environmental Control (DHEC)](https://www.scdhec.gov/vital-records/parentage/sc-vital-records-data-and-statistics)\n",
    "- [The Office of National Statistics, UK](https://www.ons.gov.uk/peoplepopulationandcommunity/birthsdeathsandmarriages/deaths/datasets/weeklyprovisionalfiguresondeathsregisteredinenglandandwales)"
   ]
  },
  {
   "cell_type": "markdown",
   "metadata": {},
   "source": [
    "## Configuring Libraries for the Almond Kernel\n",
    "\n",
    "First, we'll make a bintray repository with libraries available to your almond kernel."
   ]
  },
  {
   "cell_type": "code",
   "execution_count": null,
   "metadata": {},
   "outputs": [],
   "source": [
    "val myBT = coursierapi.MavenRepository.of(\"https://dl.bintray.com/neelsmith/maven\")\n",
    "\n",
    "interp.repositories() ++= Seq(myBT)\n",
    "\n"
   ]
  },
  {
   "cell_type": "markdown",
   "metadata": {},
   "source": [
    "Next, we bring in specific libraries from the new repository using almond's `$ivy` magic:"
   ]
  },
  {
   "cell_type": "code",
   "execution_count": null,
   "metadata": {},
   "outputs": [],
   "source": [
    "import $ivy.`org.plotly-scala::plotly-almond:0.7.1`\n",
    "import plotly._, plotly.element._, plotly.layout._, plotly.Almond._\n",
    "\n",
    "// if you want to have the plots available without an internet connection:\n",
    "init(offline=true)\n",
    "\n",
    "// restrict the output height to avoid scrolling in output cells\n",
    "repl.pprinter() = repl.pprinter().copy(defaultHeight = 3)"
   ]
  },
  {
   "cell_type": "markdown",
   "metadata": {},
   "source": [
    "## Imports\n",
    "\n",
    "From this point on, your notebook consists of completely generic Scala, with the CITE Libraries available to use."
   ]
  },
  {
   "cell_type": "code",
   "execution_count": null,
   "metadata": {},
   "outputs": [],
   "source": [
    "import almond.display.UpdatableDisplay\n",
    "import almond.interpreter.api.DisplayData.ContentType\n",
    "import almond.interpreter.api.{DisplayData, OutputHandler}\n",
    "\n",
    "import java.io.File\n",
    "import java.io.PrintWriter\n",
    "\n",
    "import scala.io.Source\n",
    "\n",
    "import java.text.SimpleDateFormat\n",
    "import java.util.Date\n"
   ]
  },
  {
   "cell_type": "markdown",
   "metadata": {},
   "source": [
    "## Useful Functions"
   ]
  },
  {
   "cell_type": "markdown",
   "metadata": {},
   "source": [
    "Save a string to a names file:"
   ]
  },
  {
   "cell_type": "code",
   "execution_count": null,
   "metadata": {},
   "outputs": [],
   "source": [
    "def saveString(s:String, filePath:String = \"\", fileName:String = \"temp.txt\"):Unit = {\n",
    "\t\t val writer = new PrintWriter(new File(s\"${filePath}${fileName}\"))\n",
    "         writer.write(s)\n",
    "         writer.close()\n",
    "\t}"
   ]
  },
  {
   "cell_type": "markdown",
   "metadata": {},
   "source": [
    "Like `.split`, but preserving the character we split on:"
   ]
  },
  {
   "cell_type": "code",
   "execution_count": null,
   "metadata": {},
   "outputs": [],
   "source": [
    "def splitWithSplitter(text: String, puncs: String): Vector[String] = {\n",
    "\t//val regexWithSplitter = s\"((?<=${puncs})|(?=${puncs}))\"\n",
    "    val regexWithSplitter = s\"((?<=${puncs}))\"\n",
    "\ttext.split(regexWithSplitter).toVector.filter(_.size > 0)\n",
    "}"
   ]
  },
  {
   "cell_type": "markdown",
   "metadata": {},
   "source": [
    "Pretty Print Things:"
   ]
  },
  {
   "cell_type": "code",
   "execution_count": null,
   "metadata": {},
   "outputs": [],
   "source": [
    "def showMe(v:Any):Unit = {\n",
    "  v match {\n",
    "    case _:Vector[Any] => println(s\"\"\"\\n----\\n${v.asInstanceOf[Vector[Any]].mkString(\"\\n\")}\\n----\\n\"\"\")\n",
    "    case _:Iterable[Any] => println(s\"\"\"\\n----\\n${v.asInstanceOf[Iterable[Any]].mkString(\"\\n\")}\\n----\\n\"\"\")\n",
    "    case _ => println(s\"\\n-----\\n${v}\\n----\\n\")\n",
    "  }\n",
    "}"
   ]
  },
  {
   "cell_type": "markdown",
   "metadata": {},
   "source": [
    "## Load Some Data"
   ]
  },
  {
   "cell_type": "markdown",
   "metadata": {},
   "source": [
    "Load up-to-date data from the NY Times. Source: <https://github.com/nytimes/covid-19-data>."
   ]
  },
  {
   "cell_type": "code",
   "execution_count": null,
   "metadata": {},
   "outputs": [],
   "source": [
    "val dataLines: Vector[String] = {\n",
    "    scala.io.Source.fromURL(\"https://raw.githubusercontent.com/nytimes/covid-19-data/master/us-states.csv\").mkString.split(\"\\n\").toVector\n",
    "}\n",
    "\n",
    "// quick test\n",
    "val badLines = dataLines.filter( l => {\n",
    "    l.split(\",\").size != 5\n",
    "})\n",
    "\n",
    "assert ( badLines.size == 0 )"
   ]
  },
  {
   "cell_type": "markdown",
   "metadata": {},
   "source": [
    "## Comparative Data"
   ]
  },
  {
   "cell_type": "markdown",
   "metadata": {},
   "source": [
    "Source for USA Data: [“Deaths and Mortality”, CDC](https://www.cdc.gov/nchs/fastats/deaths.htm).\n",
    "\n",
    "Source for South Carolina Data: [“Stats of the State of South Carolina”, CDC](https://www.cdc.gov/nchs/pressroom/states/southcarolina/southcarolina.htm)"
   ]
  },
  {
   "cell_type": "markdown",
   "metadata": {},
   "source": [
    "### USA\n",
    "\n",
    "Source for USA Data: [“Deaths and Mortality”, CDC](https://www.cdc.gov/nchs/fastats/deaths.htm)."
   ]
  },
  {
   "cell_type": "code",
   "execution_count": null,
   "metadata": {},
   "outputs": [],
   "source": [
    "val usa_2017_Total_Deaths: Int = 2813502\n",
    "\n",
    "// Chronic lower respiratory diseases\n",
    "val usa_2017_Total_Deaths_CLRD: Int = 160201\n",
    "\n",
    "// Influenza and Pneumonia\n",
    "val usa_2017_Total_Deaths_IPn: Int = 55672\n",
    "\n",
    "// All respiratory-related deaths\n",
    "val usa_2017_Total_Deaths_Resp: Int = usa_2017_Total_Deaths_CLRD + usa_2017_Total_Deaths_IPn\n",
    "\n",
    "// Suicide\n",
    "val usa_2017_Suicide_Total: Int = 47173\n",
    "\n",
    "// Heart Disease\n",
    "val usa_2017_Heart_Total: Int = 647457\n",
    "\n",
    "// Accidents\n",
    "val usa_2017_Accident_Total: Int = 169936\n",
    "\n",
    "// Cancer\n",
    "val usa_2017_Cancer_Total: Int = 599108\n",
    "\n"
   ]
  },
  {
   "cell_type": "markdown",
   "metadata": {},
   "source": [
    "### England & Wales\n",
    "\n",
    "Source for Data: [The Office of National Statistics, UK](https://www.ons.gov.uk/peoplepopulationandcommunity/birthsdeathsandmarriages/deaths/datasets/weeklyprovisionalfiguresondeathsregisteredinenglandandwales). Unfortunately, this data is published in elaborately-formatted Excel (`.xsls`) files, so I have extracted some plain values below. The original files are downloadable from the link above."
   ]
  },
  {
   "cell_type": "code",
   "execution_count": null,
   "metadata": {},
   "outputs": [],
   "source": [
    "val uk_weeks = Vector(\"3-Jan-20\",\"10-Jan-20\",\"17-Jan-20\",\"24-Jan-20\",\"31-Jan-20\",\"7-Feb-20\",\"14-Feb-20\",\"21-Feb-20\",\"28-Feb-20\",\"6-Mar-20\",\"13-Mar-20\",\"20-Mar-20\",\"27-Mar-20\",\"3-Apr-20\",\"10-Apr-20\",\"17-Apr-20\")\n",
    "val uk_Death = Vector(12254,14058,12990,11856,11612,10986,10944,10841,10816,10895,11019,10645,11141,16387,18516,22351)\n",
    "val uk_Deaths_5yr_Ave = Vector(12175,13822,13216,12760,12206,11925,11627,11548,11183,11498,11205,10573,10130,10305,10520,10497)\n",
    "val uk_2018_Resp_Deaths = Vector(2361,3075,2829,2672,2479,2197,2081,2128,1900,2302,2271,1946,1657,1761,1971,1641)\n",
    "val uk_2020_Resp_Deaths = Vector(2141, 2477, 2189, 1893, 1746, 1572, 1602, 1619, 1546, 1584, 1508, 1530, 1513, 1951, 1757,1776)\n",
    "val uk_Covid_Deaths = Vector(0,0,0,0,0,0,0,0,0,0,5,103,539,3475,6213,8758)\n",
    "\n",
    "// A little testing\n",
    "assert(\n",
    "    (uk_weeks.size == uk_Death.size) &&\n",
    "    (uk_weeks.size == uk_Deaths_5yr_Ave.size) &&\n",
    "    (uk_weeks.size == uk_2018_Resp_Deaths.size) &&\n",
    "    (uk_weeks.size == uk_2020_Resp_Deaths.size) &&\n",
    "    (uk_weeks.size == uk_Covid_Deaths.size)\n",
    ")"
   ]
  },
  {
   "cell_type": "markdown",
   "metadata": {},
   "source": [
    "## Make Data Structures"
   ]
  },
  {
   "cell_type": "markdown",
   "metadata": {},
   "source": [
    "For State data-points from the NY Times:"
   ]
  },
  {
   "cell_type": "code",
   "execution_count": null,
   "metadata": {},
   "outputs": [],
   "source": [
    "case class StateDatum( date: String, state: String, cases: Int, deaths: Int)"
   ]
  },
  {
   "cell_type": "markdown",
   "metadata": {},
   "source": [
    "For Aggregate data (just a Vector of the above):"
   ]
  },
  {
   "cell_type": "code",
   "execution_count": null,
   "metadata": {},
   "outputs": [],
   "source": [
    "case class RunningTally( days: Vector[StateDatum] )"
   ]
  },
  {
   "cell_type": "markdown",
   "metadata": {},
   "source": [
    "A daily snapshot (for the USA or a single state)"
   ]
  },
  {
   "cell_type": "code",
   "execution_count": null,
   "metadata": {},
   "outputs": [],
   "source": [
    "case class DailySnapshot( date: String, newCases: Int, newDeaths: Int, totalCases: Int, totalDeaths: Int)"
   ]
  },
  {
   "cell_type": "markdown",
   "metadata": {},
   "source": [
    "## Load Data"
   ]
  },
  {
   "cell_type": "code",
   "execution_count": null,
   "metadata": {},
   "outputs": [],
   "source": [
    "val vst: Vector[StateDatum] = dataLines.tail.map( dl => {\n",
    "    val fields: Vector[String] = dl.split(\",\").toVector\n",
    "    val date: String = fields(0)\n",
    "    val state: String = fields(1)\n",
    "    val cases: Int = fields(3).toInt\n",
    "    val deaths: Int = fields(4).toInt\n",
    "    StateDatum(date, state, cases, deaths)\n",
    "})\n",
    "\n",
    "val rt = RunningTally(vst)\n"
   ]
  },
  {
   "cell_type": "markdown",
   "metadata": {},
   "source": [
    "## Data Functions"
   ]
  },
  {
   "cell_type": "markdown",
   "metadata": {},
   "source": [
    "Taking, by default, our running-tally data (`rt`) and an optional `Option[String]` that can specify a state (defaults to `None`), return a `Vector[DailySnapshot]`, which will include new cases, new deaths, total cases, and total deaths."
   ]
  },
  {
   "cell_type": "code",
   "execution_count": null,
   "metadata": {},
   "outputs": [],
   "source": [
    "def totalNewDaily(data: Vector[StateDatum] = rt.days, state: Option[String] = None): Vector[DailySnapshot] = {\n",
    "    val sortedData: Vector[StateDatum] = {\n",
    "        val filtered: Vector[StateDatum] = {\n",
    "            state match {\n",
    "                case Some(s) => data.filter(_.state == s)\n",
    "                case None => {\n",
    "                    val groupedByDay: Vector[(String, Vector[StateDatum])] = {\n",
    "                        data.groupBy(_.date).toVector\n",
    "                    }\n",
    "                    val merged: Vector[StateDatum] = groupedByDay.map( gbd => {\n",
    "                        val vec = gbd._2\n",
    "                        val vecDate: String = vec.head.date\n",
    "                        val vecState: String = \"USA\"\n",
    "                        val vecCases: Int = vec.map(_.cases).sum\n",
    "                        val vecDeaths: Int = vec.map(_.deaths).sum\n",
    "                        StateDatum(vecDate, vecState, vecCases, vecDeaths)\n",
    "                    })\n",
    "                    merged\n",
    "                }\n",
    "            }\n",
    "        }\n",
    "        val sorted: Vector[StateDatum] = filtered.sortBy(_.date)\n",
    "        sorted\n",
    "    }\n",
    "    // We don't want a running, cumulative tally, but new cases/deaths each day\n",
    "    sortedData.zipWithIndex.map( sd => {\n",
    "        val d: StateDatum = sd._1\n",
    "        val i: Int = sd._2\n",
    "        val newCases: Int = {\n",
    "            if (i == 0) d.cases\n",
    "            else {\n",
    "                val totalToday: Int = d.cases\n",
    "                val totalPrev: Int = {\n",
    "                    sortedData(i-1).cases\n",
    "                }\n",
    "                totalToday - totalPrev\n",
    "            }\n",
    "        }\n",
    "        val newDeaths: Int = {\n",
    "            if (i == 0) d.deaths\n",
    "            else {\n",
    "                val totalToday: Int = d.deaths\n",
    "                val totalPrev: Int = {\n",
    "                    sortedData(i-1).deaths\n",
    "                }\n",
    "                totalToday - totalPrev\n",
    "            }\n",
    "        }\n",
    "        DailySnapshot(d.date, newCases, newDeaths, d.cases, d.deaths)\n",
    "    })\n",
    "    \n",
    "}"
   ]
  },
  {
   "cell_type": "markdown",
   "metadata": {},
   "source": [
    "## The Curve: Total Cases, USA\n",
    "\n",
    "Just 2020 COVID-19 Cases, cumulative, as reported by the New York Times (https://github.com/nytimes/covid-19-data).\n",
    "\n",
    "**This is the scary graph!** The cases keep piling up!"
   ]
  },
  {
   "cell_type": "code",
   "execution_count": null,
   "metadata": {},
   "outputs": [],
   "source": [
    "val curve_total_cases: Vector[Int] = totalNewDaily(state = None).map(_.totalCases)\n",
    "\n",
    "val curve_total_cases_trace = Scatter(\n",
    "  (1 to curve_total_cases.size),\n",
    "  curve_total_cases,\n",
    "  name = \"2020 Covid Total Cases\",\n",
    "  mode = ScatterMode(ScatterMode.Lines),\n",
    "  marker = Marker(\n",
    "    color = Color.RGBA(0, 204, 0, 0.95),\n",
    "    line = Line(\n",
    "      color = Color.RGBA(217, 217, 217, 1.0),\n",
    "      width = 1.0\n",
    "    ),\n",
    "    symbol = Symbol.Circle(),\n",
    "    size = 3\n",
    "  )\n",
    ")\n",
    "\n",
    "\n",
    "val data = Seq(curve_total_cases_trace)\n",
    "\n",
    "val layout = Layout(\"Total USA COVID Cases\")\n",
    "\n",
    "plot(data, layout)"
   ]
  },
  {
   "cell_type": "markdown",
   "metadata": {},
   "source": [
    "## The Curve: Total Deaths, USA\n",
    "\n",
    "Just 2020 COVID-19 Deaths, cumulative as reported by the New York Times (https://github.com/nytimes/covid-19-data).\n",
    "\n",
    "**This is another scary graph!** The deaths keep piling up!"
   ]
  },
  {
   "cell_type": "code",
   "execution_count": null,
   "metadata": {},
   "outputs": [],
   "source": [
    "val curve_total_deaths: Vector[Int] = totalNewDaily(state = None).map(_.totalDeaths)\n",
    "\n",
    "val curve_total_deaths_trace = Scatter(\n",
    "  (1 to curve_total_deaths.size),\n",
    "  curve_total_deaths,\n",
    "  name = \"2020 Covid Death-Toll\",\n",
    "  mode = ScatterMode(ScatterMode.Lines),\n",
    "  marker = Marker(\n",
    "    color = Color.RGBA(204, 0, 0, 0.95),\n",
    "    line = Line(\n",
    "      color = Color.RGBA(217, 217, 217, 1.0),\n",
    "      width = 1.0\n",
    "    ),\n",
    "    symbol = Symbol.Circle(),\n",
    "    size = 3\n",
    "  )\n",
    ")\n",
    "\n",
    "val data = Seq(curve_total_deaths_trace)\n",
    "\n",
    "val layout = Layout(\"Total US Deaths\")\n",
    "\n",
    "plot(data, layout)"
   ]
  },
  {
   "cell_type": "markdown",
   "metadata": {},
   "source": [
    "## The Curve: Total Cases & Deaths, USA\n",
    "\n",
    "Just 2020 COVID-19 Deaths, cumulative as reported by the New York Times (https://github.com/nytimes/covid-19-data).\n",
    "\n",
    "Juxatposing the above two graphs."
   ]
  },
  {
   "cell_type": "code",
   "execution_count": null,
   "metadata": {},
   "outputs": [],
   "source": [
    "val data = Seq(curve_total_deaths_trace, curve_total_cases_trace)\n",
    "\n",
    "val layout = Layout(\"Total USA COVID Cases and Deaths\")\n",
    "\n",
    "plot(data, layout)"
   ]
  },
  {
   "cell_type": "markdown",
   "metadata": {},
   "source": [
    "## Case-Fatality-Rate: USA\n",
    "\n",
    "A rolling calculation of deaths/cases. Overlaid with total cases and total deaths. \n",
    "\n",
    "So the Case Fatality Rate is visible on a scale with the other two, it is multiplied by 10,000,000. So `800k` on the gray line = `0.08%`.\n",
    "\n",
    "Hover over a point on the line to see the actual percent."
   ]
  },
  {
   "cell_type": "code",
   "execution_count": null,
   "metadata": {},
   "outputs": [],
   "source": [
    "val cfr: Vector[Double] = curve_total_deaths.zip(curve_total_cases).map( c => {\n",
    "    c._1.toDouble / c._2.toDouble\n",
    "})\n",
    "\n",
    "val cfr50: Vector[Double] = curve_total_deaths.zip(curve_total_cases).map( c => {\n",
    "    c._1.toDouble / (c._2.toDouble * 20)\n",
    "})\n",
    "\n",
    "val cfr85: Vector[Double] = curve_total_deaths.zip(curve_total_cases).map( c => {\n",
    "    c._1.toDouble / (c._2.toDouble * 50)\n",
    "})\n",
    "\n",
    "val case_fatality_rate = Scatter(\n",
    "  (1 to cfr.size),\n",
    "  cfr.map(_ * 10000000),\n",
    "  text = cfr.zipWithIndex.map(z => {\n",
    "      val d = z._1\n",
    "      val i = z._2\n",
    "      val cases = curve_total_cases(i)\n",
    "      val deaths = curve_total_deaths(i)\n",
    "      val percent = (d * 100)\n",
    "      s\"${deaths} deaths / ${cases} cases -> \" + f\"$d%1.4f\" + \" = \" + f\"$percent%1.2f\" + \"%\"\n",
    "  }),\n",
    "  name = \"Case Fatality Rate\",\n",
    "  mode = ScatterMode(ScatterMode.Lines),\n",
    "  marker = Marker(\n",
    "    color = Color.RGBA(204, 204, 204, 0.95),\n",
    "    line = Line(\n",
    "      color = Color.RGBA(217, 217, 217, 1.0),\n",
    "      width = 1.0\n",
    "    ),\n",
    "    symbol = Symbol.Circle(),\n",
    "    size = 3\n",
    "  )\n",
    ")\n",
    "\n",
    "val case_fatality_rate_50 = Scatter(\n",
    "  (1 to cfr50.size),\n",
    "  cfr50.map(_ * 10000000),\n",
    "  text = cfr50.zipWithIndex.map(z => {\n",
    "      val d = z._1\n",
    "      val i = z._2\n",
    "      val cases = curve_total_cases(i) * 10\n",
    "      val deaths = curve_total_deaths(i)\n",
    "      val percent = (d * 100)\n",
    "      s\"${deaths} deaths / ${cases} cases -> \" + f\"$d%1.4f\" + \" = \" + f\"$percent%1.2f\" + \"%\"\n",
    "  }),\n",
    "  name = \"Case Fatality Rate (10x cases)\",\n",
    "  mode = ScatterMode(ScatterMode.Lines),\n",
    "  marker = Marker(\n",
    "    color = Color.RGBA(204, 0, 0, 0.95),\n",
    "    line = Line(\n",
    "      color = Color.RGBA(217, 217, 217, 1.0),\n",
    "      width = 1.0\n",
    "    ),\n",
    "    symbol = Symbol.Circle(),\n",
    "    size = 3\n",
    "  )\n",
    ")\n",
    "\n",
    "val case_fatality_rate_85 = Scatter(\n",
    "  (1 to cfr85.size),\n",
    "  cfr85.map(_ * 10000000),\n",
    "  text = cfr85.zipWithIndex.map(z => {\n",
    "      val d = z._1\n",
    "      val i = z._2\n",
    "      val cases = curve_total_cases(i) * 20\n",
    "      val deaths = curve_total_deaths(i)\n",
    "      val percent = ((d) * 100)\n",
    "      s\"${deaths} deaths / ${cases} cases -> \" + f\"$d%1.4f\" + \" = \" + f\"$percent%1.2f\" + \"%\"\n",
    "  }),\n",
    "  name = \"Case Fatality Rate (20x cases)\",\n",
    "  mode = ScatterMode(ScatterMode.Lines),\n",
    "  marker = Marker(\n",
    "    color = Color.RGBA(0, 204, 0, 0.95),\n",
    "    line = Line(\n",
    "      color = Color.RGBA(217, 217, 217, 1.0),\n",
    "      width = 1.0\n",
    "    ),\n",
    "    symbol = Symbol.Circle(),\n",
    "    size = 3\n",
    "  )\n",
    ")\n",
    "\n",
    "val data = Seq(case_fatality_rate, case_fatality_rate_50, case_fatality_rate_85)\n",
    "\n",
    "val layout = Layout(\"2020 Covid Case Fatality Rate\")\n",
    "\n",
    "plot(data, layout)"
   ]
  },
  {
   "cell_type": "markdown",
   "metadata": {},
   "source": [
    "## New Cases vs. Total Cases\n",
    "\n",
    "This juxtaposition is informative."
   ]
  },
  {
   "cell_type": "code",
   "execution_count": null,
   "metadata": {},
   "outputs": [],
   "source": [
    "\n",
    "val new_cases_usa: Vector[Int] = {\n",
    "    totalNewDaily().map( z => z.newCases)\n",
    "}\n",
    "\n",
    "val curve_new_cases_trace = Scatter(\n",
    "  (1 to new_cases_usa.size),\n",
    "  new_cases_usa,\n",
    "  name = \"2020 Covid New Cases, Daily\",\n",
    "  mode = ScatterMode(ScatterMode.Lines),\n",
    "  marker = Marker(\n",
    "    color = Color.RGBA(204, 0, 0, 0.95),\n",
    "    line = Line(\n",
    "      color = Color.RGBA(217, 217, 217, 1.0),\n",
    "      width = 1.0\n",
    "    ),\n",
    "    symbol = Symbol.Circle(),\n",
    "    size = 3\n",
    "  )\n",
    ")\n",
    "\n",
    "val data = Seq(curve_total_cases_trace, curve_new_cases_trace)\n",
    "\n",
    "val layout = Layout(s\"New Cases vs. Total Cases: USA\")\n",
    "\n",
    "plot(data, layout)"
   ]
  },
  {
   "cell_type": "markdown",
   "metadata": {},
   "source": [
    "## US: New Cases\n",
    "\n",
    "Just new cases, for detail. Also, averaged over N-days (set the value of `n` below)."
   ]
  },
  {
   "cell_type": "code",
   "execution_count": null,
   "metadata": {},
   "outputs": [],
   "source": [
    "\n",
    "val nDays = 7\n",
    "\n",
    "val new_cases_usa: Vector[Int] = {\n",
    "    totalNewDaily().map( z => z.newCases)\n",
    "}\n",
    "\n",
    "val curve_new_cases_nave_trace = Scatter(\n",
    "  (1 to new_cases_usa.size),\n",
    "  new_cases_usa.sliding(nDays,1).toVector.map( n => {\n",
    "      n.sum / n.size\n",
    "  }),\n",
    "  name = s\"2020 Covid New Cases, Daily ${nDays} ave.\",\n",
    "  mode = ScatterMode(ScatterMode.Lines),\n",
    "  marker = Marker(\n",
    "    color = Color.RGBA(0, 204, 0, 0.95),\n",
    "    line = Line(\n",
    "      color = Color.RGBA(230, 230, 217, 1.0),\n",
    "      width = 1.0\n",
    "    ),\n",
    "    symbol = Symbol.Circle(),\n",
    "    size = 3\n",
    "  )\n",
    ")\n",
    "\n",
    "val curve_new_cases_trace = Scatter(\n",
    "  (1 to new_cases_usa.size),\n",
    "  new_cases_usa,\n",
    "  name = \"2020 Covid New Cases, Daily\",\n",
    "  mode = ScatterMode(ScatterMode.Lines),\n",
    "  marker = Marker(\n",
    "    color = Color.RGBA(0, 204, 0, 0.3),\n",
    "    line = Line(\n",
    "      color = Color.RGBA(230, 230, 217, 1.0),\n",
    "      width = 1.0\n",
    "    ),\n",
    "    symbol = Symbol.Circle(),\n",
    "    size = 3\n",
    "  )\n",
    ")\n",
    "\n",
    "val data = Seq(curve_new_cases_nave_trace, curve_new_cases_trace)\n",
    "\n",
    "val layout = Layout(s\"New Cases: USA\")\n",
    "\n",
    "plot(data, layout)"
   ]
  },
  {
   "cell_type": "markdown",
   "metadata": {},
   "source": [
    "## US: New Deaths\n",
    "\n",
    "Just new deaths, for detail."
   ]
  },
  {
   "cell_type": "code",
   "execution_count": null,
   "metadata": {},
   "outputs": [],
   "source": [
    "\n",
    "val nDays4Deaths: Int = 7\n",
    "\n",
    "val new_deaths_usa: Vector[Int] = {\n",
    "    totalNewDaily().map( z => z.newDeaths)\n",
    "}\n",
    "\n",
    "val curve_new_deaths_nave_trace = Scatter(\n",
    "  (1 to new_deaths_usa.size),\n",
    "  new_deaths_usa.sliding(nDays,1).toVector.map( n => {\n",
    "      n.sum / n.size\n",
    "  }),\n",
    "  name = s\"2020 Covid New Deaths, Daily ${nDays4Deaths} ave.\",\n",
    "  mode = ScatterMode(ScatterMode.Lines),\n",
    "  marker = Marker(\n",
    "    color = Color.RGBA(204, 0, 0, 0.95),\n",
    "    line = Line(\n",
    "      color = Color.RGBA(217, 217, 217, 1.0),\n",
    "      width = 1.0\n",
    "    ),\n",
    "    symbol = Symbol.Circle(),\n",
    "    size = 3\n",
    "  )\n",
    ")\n",
    "\n",
    "val curve_new_deaths_trace = Scatter(\n",
    "  (1 to new_deaths_usa.size),\n",
    "  new_deaths_usa,\n",
    "  name = \"2020 Covid New Deaths, Daily\",\n",
    "  mode = ScatterMode(ScatterMode.Lines),\n",
    "  marker = Marker(\n",
    "    color = Color.RGBA(204, 0, 0, 0.3),\n",
    "    line = Line(\n",
    "      color = Color.RGBA(217, 217, 217, 1.0),\n",
    "      width = 1.0\n",
    "    ),\n",
    "    symbol = Symbol.Circle(),\n",
    "    size = 3\n",
    "  )\n",
    ")\n",
    "\n",
    "\n",
    "\n",
    "val data = Seq(curve_new_deaths_trace, curve_new_deaths_nave_trace)\n",
    "\n",
    "val layout = Layout(s\"New Deaths: USA\")\n",
    "\n",
    "plot(data, layout)"
   ]
  },
  {
   "cell_type": "markdown",
   "metadata": {},
   "source": [
    "## US: New Cases vs. New Deaths"
   ]
  },
  {
   "cell_type": "code",
   "execution_count": null,
   "metadata": {},
   "outputs": [],
   "source": [
    "\n",
    "\n",
    "\n",
    "val data = Seq(curve_new_cases_nave_trace, curve_new_deaths_nave_trace, curve_new_cases_trace, curve_new_deaths_trace)\n",
    "\n",
    "val layout = Layout(s\"New Cases vs. New Deaths: USA\")\n",
    "\n",
    "plot(data, layout)"
   ]
  },
  {
   "cell_type": "markdown",
   "metadata": {},
   "source": [
    "## “Active” Cases, USA\n",
    "\n",
    "Simply piling up “cases” is misleading. Patients get over COVID-19, or they die. This graph overlays “total cases” with a graph of cases, with cases a certain number of days in the past removed, and deaths removed."
   ]
  },
  {
   "cell_type": "markdown",
   "metadata": {},
   "source": [
    "### Set the Threshold!\n",
    "\n",
    "Set the value below for the number of days in which a patient either dies or is considered “recovered”.\n",
    "\n",
    "> By setting this to a smaller number than seems reasonable, you can do a kind of “faux-modelling”, to see, now, what a realistic curve might look like in the future."
   ]
  },
  {
   "cell_type": "code",
   "execution_count": null,
   "metadata": {},
   "outputs": [],
   "source": [
    "val threshold: Int = 14"
   ]
  },
  {
   "cell_type": "code",
   "execution_count": null,
   "metadata": {},
   "outputs": [],
   "source": [
    "val active_cases_usa: Vector[Int] = {\n",
    "    totalNewDaily().zipWithIndex.map( z => {\n",
    "        val tnd: DailySnapshot = z._1\n",
    "        val i: Int = z._2\n",
    "        if (i < threshold) tnd.totalCases\n",
    "        else {\n",
    "            val recovered: Int = totalNewDaily()(i - threshold).totalCases\n",
    "            val dead: Int = totalNewDaily()(i - threshold).totalDeaths\n",
    "            tnd.totalCases - (dead + recovered)\n",
    "        }\n",
    "    })\n",
    "}\n",
    "\n",
    "val curve_active_cases_trace = Scatter(\n",
    "  (1 to active_cases_usa.size),\n",
    "  active_cases_usa,\n",
    "  name = \"2020 Covid Active Cases\",\n",
    "  mode = ScatterMode(ScatterMode.Lines),\n",
    "  marker = Marker(\n",
    "    color = Color.RGBA(0, 0, 204, 0.95),\n",
    "    line = Line(\n",
    "      color = Color.RGBA(217, 217, 217, 1.0),\n",
    "      width = 1.0\n",
    "    ),\n",
    "    symbol = Symbol.Circle(),\n",
    "    size = 3\n",
    "  )\n",
    ")\n",
    "\n",
    "val data = Seq(curve_active_cases_trace, curve_new_cases_trace, curve_total_cases_trace)\n",
    "\n",
    "val layout = Layout(s\"Active Cases: USA (Minus Recovered and Dead): threshold = ${threshold} days.\")\n",
    "\n",
    "plot(data, layout)"
   ]
  },
  {
   "cell_type": "markdown",
   "metadata": {},
   "source": [
    "## Recovered Cases, USA\n",
    "\n"
   ]
  },
  {
   "cell_type": "code",
   "execution_count": null,
   "metadata": {},
   "outputs": [],
   "source": [
    "// totalNewDaily\n",
    "\n",
    "\n",
    "val recovered_cases_usa: Vector[Int] = {\n",
    "    totalNewDaily().zipWithIndex.map( z => {\n",
    "        val tnd: DailySnapshot = z._1\n",
    "        val i: Int = z._2\n",
    "        if (i < threshold) 0\n",
    "        else {\n",
    "            val recovered: Int = totalNewDaily()(i - threshold).totalCases\n",
    "            val dead: Int = totalNewDaily()(i - (threshold/2)).totalDeaths\n",
    "            recovered - dead\n",
    "        }\n",
    "     })\n",
    "}\n",
    "\n",
    "val curve_recovered_cases_trace = Scatter(\n",
    "  (1 to recovered_cases_usa.size),\n",
    "  recovered_cases_usa,\n",
    "  name = \"2020 Covid Recovered Cases\",\n",
    "  mode = ScatterMode(ScatterMode.Lines),\n",
    "  marker = Marker(\n",
    "    color = Color.RGBA(204, 0, 0, 0.95),\n",
    "    line = Line(\n",
    "      color = Color.RGBA(217, 217, 217, 1.0),\n",
    "      width = 1.0\n",
    "    ),\n",
    "    symbol = Symbol.Circle(),\n",
    "    size = 3\n",
    "  )\n",
    ")\n",
    "\n",
    "val data = Seq(curve_recovered_cases_trace, curve_total_cases_trace)\n",
    "\n",
    "val layout = Layout(s\"Recovered Cases & Total Cases: threshold = ${threshold} days.\")\n",
    "\n",
    "plot(data, layout)"
   ]
  },
  {
   "cell_type": "markdown",
   "metadata": {},
   "source": [
    "## Compared to the Flu\n",
    "\n",
    "Throughout a year like 2017, the death-toll for Influenzas and Pneumonias mounts, day to day. Here we chart that death-toll, assuming the annual deaths are evenly distributed across the year. \n",
    "\n",
    "But the flu-season is, as defined by the CDC, 6 months, from October through March. So we can also compare daily flu deaths and their mounting toll, over a six-month season.\n",
    "\n",
    "Source for USA Data: [“Deaths and Mortality”, CDC](https://www.cdc.gov/nchs/fastats/deaths.htm)."
   ]
  },
  {
   "cell_type": "code",
   "execution_count": null,
   "metadata": {},
   "outputs": [],
   "source": [
    "val usa_2017_mounting_flu_toll: Vector[Int] = {\n",
    "    val daily = usa_2017_Total_Deaths_IPn / 365\n",
    "    (1 to curve_total_deaths.size).toVector.map( i => {\n",
    "        if (i == 1) daily\n",
    "        else daily + (daily * (i - 1))\n",
    "    })\n",
    "}\n",
    "\n",
    "val usa_2017_mounting_flu_toll_6: Vector[Int] = {\n",
    "    val daily = usa_2017_Total_Deaths_IPn / 365 * 2\n",
    "    (1 to curve_total_deaths.size).toVector.map( i => {\n",
    "        if (i == 1) daily\n",
    "        else daily + (daily * (i - 1))\n",
    "    })\n",
    "}\n",
    "\n",
    "val usa_2017_Daily_Deaths_IPn_trace = Scatter(\n",
    "  (1 to curve_total_deaths.size),\n",
    "  usa_2017_mounting_flu_toll,\n",
    "  name = \"2017 Influenza Death Toll\",\n",
    "  mode = ScatterMode(ScatterMode.Lines),\n",
    "  marker = Marker(\n",
    "    color = Color.RGBA(204, 204, 0, 0.95),\n",
    "    line = Line(\n",
    "      color = Color.RGBA(217, 217, 217, 1.0),\n",
    "      width = 1.0\n",
    "    ),\n",
    "    symbol = Symbol.Circle(),\n",
    "    size = 3\n",
    "  )\n",
    ")\n",
    "\n",
    "val usa_2017_Daily_Deaths_IPn_6mo_trace = Scatter(\n",
    "  (1 to curve_total_deaths.size),\n",
    "  usa_2017_mounting_flu_toll_6,\n",
    "  name = \"2017 Influenza Death Toll (6 mo. season)\",\n",
    "  mode = ScatterMode(ScatterMode.Lines),\n",
    "  marker = Marker(\n",
    "    color = Color.RGBA(0, 204, 204, 0.95),\n",
    "    line = Line(\n",
    "      color = Color.RGBA(217, 217, 217, 1.0),\n",
    "      width = 1.0\n",
    "    ),\n",
    "    symbol = Symbol.Circle(),\n",
    "    size = 3\n",
    "  )\n",
    ")\n",
    "\n",
    "val data = Seq(curve_total_deaths_trace, usa_2017_Daily_Deaths_IPn_trace, usa_2017_Daily_Deaths_IPn_6mo_trace)\n",
    "\n",
    "val layout = Layout(\"COVID Death Toll vs. Flu Season, 2017\")\n",
    "\n",
    "plot(data, layout)"
   ]
  },
  {
   "cell_type": "markdown",
   "metadata": {},
   "source": [
    "## Are More People Dying?\n",
    "\n",
    "We do not have have good, readily available data for the USA to determine this.\n",
    "\n",
    "For England and Wales, however, we have week-by-week data for deaths (from all causes), in 2020, through the week of March 27, and an *average* of deaths in each of the first 13 weeks in 2015-2019.\n",
    "\n",
    "Source for Data:[The Office of National Statistics, UK](https://www.ons.gov.uk/peoplepopulationandcommunity/birthsdeathsandmarriages/deaths/datasets/weeklyprovisionalfiguresondeathsregisteredinenglandandwales)"
   ]
  },
  {
   "cell_type": "code",
   "execution_count": null,
   "metadata": {},
   "outputs": [],
   "source": [
    "\n",
    "val cumuUkDeathsByWeek2020: Vector[Int] = {\n",
    "    uk_Death.zipWithIndex.map( t => {\n",
    "        val d = t._1\n",
    "        val i = t._2\n",
    "        if (i == 0 ) {\n",
    "            d\n",
    "        }\n",
    "        else {\n",
    "            d + (uk_Death.take(i+1).sum)\n",
    "        }\n",
    "    })\n",
    "}\n",
    "\n",
    "val cumuUkDeathsByWeekAve: Vector[Int] = {\n",
    "    uk_Deaths_5yr_Ave.zipWithIndex.map( t => {\n",
    "        val d = t._1\n",
    "        val i = t._2\n",
    "        if (i == 0 ) {\n",
    "            d\n",
    "        }\n",
    "        else {\n",
    "            d + (uk_Deaths_5yr_Ave.take(i+1).sum)\n",
    "        }\n",
    "    })\n",
    "}\n",
    "\n",
    "val trace_uk_death_2020 = Scatter(\n",
    "  (1 to cumuUkDeathsByWeek2020.size).toSeq,\n",
    "  cumuUkDeathsByWeek2020.toSeq,\n",
    "  fill = Fill.ToZeroY, \n",
    "  name = \"2020\"\n",
    ")\n",
    "\n",
    "val trace_uk_death_5yr_ave = Scatter(\n",
    "  (1 to cumuUkDeathsByWeek2020.size).toSeq,\n",
    "  cumuUkDeathsByWeekAve.toSeq,\n",
    "  fill = Fill.ToNextY,\n",
    "  name = \"Average (2015-2019)\"\n",
    ")\n",
    "\n",
    "val data = Seq(trace_uk_death_2020, trace_uk_death_5yr_ave)\n",
    "\n",
    "val layout = Layout(\"England and Wales: Weekly Death Toll, all causes\")\n",
    "\n",
    "plot(data, layout)"
   ]
  },
  {
   "cell_type": "code",
   "execution_count": null,
   "metadata": {},
   "outputs": [],
   "source": []
  }
 ],
 "metadata": {
  "kernel_info": {
   "name": "scala"
  },
  "kernelspec": {
   "display_name": "Scala",
   "language": "scala",
   "name": "scala"
  },
  "language_info": {
   "codemirror_mode": "text/x-scala",
   "file_extension": ".scala",
   "mimetype": "text/x-scala",
   "name": "scala",
   "nbconvert_exporter": "script",
   "version": "2.12.10"
  },
  "nteract": {
   "version": "0.15.0"
  }
 },
 "nbformat": 4,
 "nbformat_minor": 2
}
