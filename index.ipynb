{
 "cells": [
  {
   "cell_type": "markdown",
   "metadata": {},
   "source": [
    "# Perspectives on COVID-19\n",
    "\n",
    "I am curious about COVID-19, and this notebook is my effort to find context and perspective from responsible, public data.\n",
    "\n",
    "All data used is from:\n",
    "\n",
    "- [The *New York Times*](https://github.com/nytimes/covid-19-data)\n",
    "- [“Deaths and Mortality”, CDC](https://www.cdc.gov/nchs/fastats/deaths.htm)\n",
    "- [“Stats of the State of South Carolina”, CDC](https://www.cdc.gov/nchs/pressroom/states/southcarolina/southcarolina.htm)\n",
    "- [South Carolina Department of Health and Environmental Control (DHEC)](https://www.scdhec.gov/vital-records/parentage/sc-vital-records-data-and-statistics)\n",
    "- [The Office of National Statistics, UK](https://www.ons.gov.uk/peoplepopulationandcommunity/birthsdeathsandmarriages/deaths/datasets/weeklyprovisionalfiguresondeathsregisteredinenglandandwales)\n",
    "- [Civil Services State Governors Data](https://github.com/CivilServiceUSA/us-governors)\n",
    "- [A map of the US cities and states under lockdown — and those that are reopening. Business Insider (updated as of May 28)](https://www.businessinsider.com/us-map-stay-at-home-orders-lockdowns-2020-3)\n",
    "- [See Which States Are Reopening and Which Are Still Shut Down](https://www.nytimes.com/interactive/2020/us/states-reopen-map-coronavirus.html)\n",
    "- [2016 United States Presidential Election. Wikipedia](https://en.wikipedia.org/wiki/2016_United_States_presidential_election)\n",
    "- [States with the Fewest Coronavirus Restrictions](https://wallethub.com/edu/states-with-the-fewest-coronavirus-restrictions/73818/#expert=kelsey-hample)"
   ]
  },
  {
   "cell_type": "markdown",
   "metadata": {},
   "source": [
    "## Pages"
   ]
  },
  {
   "cell_type": "markdown",
   "metadata": {},
   "source": [
    "- [States](states.ipynb) (Some basic state data.)\n",
    "- [Comparisons](comparisons.ipynb) (A growing grab-bag of graphs based on data for 51 states.)"
   ]
  },
  {
   "cell_type": "code",
   "execution_count": null,
   "metadata": {},
   "outputs": [],
   "source": []
  }
 ],
 "metadata": {
  "kernelspec": {
   "display_name": "Scala",
   "language": "scala",
   "name": "scala"
  },
  "language_info": {
   "codemirror_mode": "text/x-scala",
   "file_extension": ".scala",
   "mimetype": "text/x-scala",
   "name": "scala",
   "nbconvert_exporter": "script",
   "version": "2.12.10"
  }
 },
 "nbformat": 4,
 "nbformat_minor": 2
}
