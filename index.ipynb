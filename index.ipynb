{
 "cells": [
  {
   "cell_type": "markdown",
   "metadata": {},
   "source": [
    "# Perspectives on COVID-19\n",
    "\n",
    "I am curious about COVID-19, and this notebook is my effort to find context and perspective from responsible, public data.\n",
    "\n",
    "All data used is from:\n",
    "\n",
    "- [The *New York Times*](https://github.com/nytimes/covid-19-data)\n",
    "- [“Deaths and Mortality”, CDC](https://www.cdc.gov/nchs/fastats/deaths.htm)\n",
    "- [“Stats of the State of South Carolina”, CDC](https://www.cdc.gov/nchs/pressroom/states/southcarolina/southcarolina.htm)\n",
    "- [South Carolina Department of Health and Environmental Control (DHEC)](https://www.scdhec.gov/vital-records/parentage/sc-vital-records-data-and-statistics)\n",
    "- [Civil Services State Governors Data](https://github.com/CivilServiceUSA/us-governors)\n",
    "- [A map of the US cities and states under lockdown — and those that are reopening. Business Insider (updated as of May 28)](https://www.businessinsider.com/us-map-stay-at-home-orders-lockdowns-2020-3)\n",
    "- [See Which States Are Reopening and Which Are Still Shut Down](https://www.nytimes.com/interactive/2020/us/states-reopen-map-coronavirus.html)\n",
    "- [2016 United States Presidential Election. Wikipedia](https://en.wikipedia.org/wiki/2016_United_States_presidential_election)\n",
    "- [States with the Fewest Coronavirus Restrictions](https://wallethub.com/edu/states-with-the-fewest-coronavirus-restrictions/73818/#expert=kelsey-hample)"
   ]
  },
  {
   "cell_type": "markdown",
   "metadata": {},
   "source": [
    "## Tracking and Comparing"
   ]
  },
  {
   "cell_type": "markdown",
   "metadata": {},
   "source": [
    "[Comparisons](comparisons.ipynb): A growing grab-bag of graphs based on data for 51 states (states + DC). The data updates on each run, from [the *New York Times*](https://github.com/nytimes/covid-19-data) repository."
   ]
  },
  {
   "cell_type": "markdown",
   "metadata": {},
   "source": [
    "## Modelling\n",
    "\n",
    "When I read a headline like [\"Neil Ferguson's Imperial model could be the most devastating software mistake of all time\"](https://www.telegraph.co.uk/technology/2020/05/16/neil-fergusons-imperial-model-could-devastating-software-mistake/), my inner dillettante immediately says, \"I'd like to try that!\".\n",
    "\n",
    "Why not try? Imperial College and Neil Fergusun is regularly off by one-to-three orders of magnitude in his predictions so if I can beat that, I, too, can be the toast of London and excempt from quarantine rules.\n",
    "\n",
    "The top part of this notebook consists of configurations. The more interesting stuff is below. I am not a professional any of the domains that this notebook touches on, so I make no claims.\n",
    "\n",
    "There is a lot of code before we get down to being able to run the simulation. Most of it consists of tests for each Class and each Function. These tests include `assert` statements, checking for correct and reproducible, deterministic, function throughout, given the same starting seed for pseudo-random number generation. The simulation will not run if it has not proven to be reproducible. If in no other way, that makes my model [superior to the Imperial College \"model\"](https://lockdownsceptics.org/code-review-of-fergusons-model/)."
   ]
  },
  {
   "cell_type": "markdown",
   "metadata": {},
   "source": [
    "- [Model](model.ipynb): A generic “pandemic model” for experimentation and comparison between outcomes, based on differing parameter. By default, this script will run two iterations of a notional pandemic on two populations with the same parameter and the same pseudo-random number seed. They should be identical.\n",
    "- [Model-2](model-2.ipynb): A second test-run. Two identical populations, all other parameters identical *except* one has an `infectivity` of 2.5% and the other has one of 2.6%.\n",
    "- [Care-Homes](model-care-homes.ipynb): A copy of the above, with parameters set in an attempt to model a population that includes elderly people in nursing homes.\n",
    "- [Naive-Lockdown](model-naive-lockdown.ipynb): What happens if we model \"lockdown\" without considering all its effects? This models a decrease in mobility and interaction, but assumes that there are no other effects.\n",
    "- [Real Lockdown](model-lockdown.ipynb): Like `model-naive-lockdown.ipynb` above, but this assumes that, with people stuck inside, with poorer air circulation, less Vitamin D, and more depressed and drunk, there is a slight increase in `infectivity`, and each age bracket is 0.1% more likely to die of the disease."
   ]
  },
  {
   "cell_type": "code",
   "execution_count": null,
   "metadata": {},
   "outputs": [],
   "source": []
  }
 ],
 "metadata": {
  "kernelspec": {
   "display_name": "Scala",
   "language": "scala",
   "name": "scala"
  },
  "language_info": {
   "codemirror_mode": "text/x-scala",
   "file_extension": ".scala",
   "mimetype": "text/x-scala",
   "name": "scala",
   "nbconvert_exporter": "script",
   "version": "2.12.10"
  }
 },
 "nbformat": 4,
 "nbformat_minor": 2
}
