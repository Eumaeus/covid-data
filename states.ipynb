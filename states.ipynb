{
 "cells": [
  {
   "cell_type": "markdown",
   "metadata": {},
   "source": [
    "# Perspectives on COVID-19: State Data\n",
    "\n",
    "I am curious about COVID-19, and this notebook is my effort to find context and perspective from responsible, public data.\n",
    "\n",
    "All data used is from:\n",
    "\n",
    "- [The *New York Times*](https://github.com/nytimes/covid-19-data)\n",
    "- [“Deaths and Mortality”, CDC](https://www.cdc.gov/nchs/fastats/deaths.htm)\n",
    "- [“Stats of the State of South Carolina”, CDC](https://www.cdc.gov/nchs/pressroom/states/southcarolina/southcarolina.htm)\n",
    "- [South Carolina Department of Health and Environmental Control (DHEC)](https://www.scdhec.gov/vital-records/parentage/sc-vital-records-data-and-statistics)\n",
    "- [The Office of National Statistics, UK](https://www.ons.gov.uk/peoplepopulationandcommunity/birthsdeathsandmarriages/deaths/datasets/weeklyprovisionalfiguresondeathsregisteredinenglandandwales)"
   ]
  },
  {
   "cell_type": "markdown",
   "metadata": {},
   "source": [
    "## Configuring Libraries for the Almond Kernel\n",
    "\n",
    "First, we'll make a bintray repository with libraries available to your almond kernel."
   ]
  },
  {
   "cell_type": "code",
   "execution_count": 16,
   "metadata": {},
   "outputs": [
    {
     "data": {
      "text/plain": [
       "\u001b[36mmyBT\u001b[39m: \u001b[32mcoursierapi\u001b[39m.\u001b[32mMavenRepository\u001b[39m = MavenRepository(https://dl.bintray.com/neelsmith/maven)"
      ]
     },
     "execution_count": 16,
     "metadata": {},
     "output_type": "execute_result"
    }
   ],
   "source": [
    "val myBT = coursierapi.MavenRepository.of(\"https://dl.bintray.com/neelsmith/maven\")\n",
    "\n",
    "interp.repositories() ++= Seq(myBT)"
   ]
  },
  {
   "cell_type": "markdown",
   "metadata": {},
   "source": [
    "Next, we bring in specific libraries from the new repository using almond's `$ivy` magic:"
   ]
  },
  {
   "cell_type": "code",
   "execution_count": 17,
   "metadata": {},
   "outputs": [
    {
     "data": {
      "text/plain": [
       "\u001b[32mimport \u001b[39m\u001b[36m$ivy.$                                      \n",
       "\u001b[39m\n",
       "\u001b[32mimport \u001b[39m\u001b[36mplotly._, plotly.element._, plotly.layout._, plotly.Almond._\n",
       "\n",
       "// if you want to have the plots available without an internet connection:\n",
       "// init(offline=true)\n",
       "\n",
       "// restrict the output height to avoid scrolling in output cells\n",
       "\u001b[39m"
      ]
     },
     "execution_count": 17,
     "metadata": {},
     "output_type": "execute_result"
    }
   ],
   "source": [
    "import $ivy.`org.plotly-scala::plotly-almond:0.7.1`\n",
    "import plotly._, plotly.element._, plotly.layout._, plotly.Almond._\n",
    "\n",
    "// if you want to have the plots available without an internet connection:\n",
    "// init(offline=true)\n",
    "\n",
    "// restrict the output height to avoid scrolling in output cells\n",
    "repl.pprinter() = repl.pprinter().copy(defaultHeight = 3)"
   ]
  },
  {
   "cell_type": "markdown",
   "metadata": {},
   "source": [
    "## Imports\n",
    "\n",
    "From this point on, your notebook consists of completely generic Scala, with the CITE Libraries available to use."
   ]
  },
  {
   "cell_type": "code",
   "execution_count": 18,
   "metadata": {},
   "outputs": [
    {
     "data": {
      "text/plain": [
       "\u001b[32mimport \u001b[39m\u001b[36malmond.display.UpdatableDisplay\n",
       "\u001b[39m\n",
       "\u001b[32mimport \u001b[39m\u001b[36malmond.interpreter.api.DisplayData.ContentType\n",
       "\u001b[39m\n",
       "\u001b[32mimport \u001b[39m\u001b[36malmond.interpreter.api.{DisplayData, OutputHandler}\n",
       "\n",
       "\u001b[39m\n",
       "\u001b[32mimport \u001b[39m\u001b[36mjava.io.File\n",
       "\u001b[39m\n",
       "\u001b[32mimport \u001b[39m\u001b[36mjava.io.PrintWriter\n",
       "\n",
       "\u001b[39m\n",
       "\u001b[32mimport \u001b[39m\u001b[36mscala.io.Source\n",
       "\n",
       "\u001b[39m\n",
       "\u001b[32mimport \u001b[39m\u001b[36mjava.text.SimpleDateFormat\n",
       "\u001b[39m\n",
       "\u001b[32mimport \u001b[39m\u001b[36mjava.util.Date\n",
       "\u001b[39m"
      ]
     },
     "execution_count": 18,
     "metadata": {},
     "output_type": "execute_result"
    }
   ],
   "source": [
    "import almond.display.UpdatableDisplay\n",
    "import almond.interpreter.api.DisplayData.ContentType\n",
    "import almond.interpreter.api.{DisplayData, OutputHandler}\n",
    "\n",
    "import java.io.File\n",
    "import java.io.PrintWriter\n",
    "\n",
    "import scala.io.Source\n",
    "\n",
    "import java.text.SimpleDateFormat\n",
    "import java.util.Date\n"
   ]
  },
  {
   "cell_type": "markdown",
   "metadata": {},
   "source": [
    "## Useful Functions"
   ]
  },
  {
   "cell_type": "markdown",
   "metadata": {},
   "source": [
    "Save a string to a names file:"
   ]
  },
  {
   "cell_type": "code",
   "execution_count": 19,
   "metadata": {},
   "outputs": [
    {
     "data": {
      "text/plain": [
       "defined \u001b[32mfunction\u001b[39m \u001b[36msaveString\u001b[39m"
      ]
     },
     "execution_count": 19,
     "metadata": {},
     "output_type": "execute_result"
    }
   ],
   "source": [
    "def saveString(s:String, filePath:String = \"\", fileName:String = \"temp.txt\"):Unit = {\n",
    "\t\t val writer = new PrintWriter(new File(s\"${filePath}${fileName}\"))\n",
    "         writer.write(s)\n",
    "         writer.close()\n",
    "\t}"
   ]
  },
  {
   "cell_type": "markdown",
   "metadata": {},
   "source": [
    "Like `.split`, but preserving the character we split on:"
   ]
  },
  {
   "cell_type": "code",
   "execution_count": 20,
   "metadata": {},
   "outputs": [
    {
     "data": {
      "text/plain": [
       "defined \u001b[32mfunction\u001b[39m \u001b[36msplitWithSplitter\u001b[39m"
      ]
     },
     "execution_count": 20,
     "metadata": {},
     "output_type": "execute_result"
    }
   ],
   "source": [
    "def splitWithSplitter(text: String, puncs: String): Vector[String] = {\n",
    "\t//val regexWithSplitter = s\"((?<=${puncs})|(?=${puncs}))\"\n",
    "    val regexWithSplitter = s\"((?<=${puncs}))\"\n",
    "\ttext.split(regexWithSplitter).toVector.filter(_.size > 0)\n",
    "}"
   ]
  },
  {
   "cell_type": "markdown",
   "metadata": {},
   "source": [
    "Pretty Print Things:"
   ]
  },
  {
   "cell_type": "code",
   "execution_count": 21,
   "metadata": {},
   "outputs": [
    {
     "data": {
      "text/plain": [
       "defined \u001b[32mfunction\u001b[39m \u001b[36mshowMe\u001b[39m"
      ]
     },
     "execution_count": 21,
     "metadata": {},
     "output_type": "execute_result"
    }
   ],
   "source": [
    "def showMe(v:Any):Unit = {\n",
    "  v match {\n",
    "    case _:Vector[Any] => println(s\"\"\"\\n----\\n${v.asInstanceOf[Vector[Any]].mkString(\"\\n\")}\\n----\\n\"\"\")\n",
    "    case _:Iterable[Any] => println(s\"\"\"\\n----\\n${v.asInstanceOf[Iterable[Any]].mkString(\"\\n\")}\\n----\\n\"\"\")\n",
    "    case _ => println(s\"\\n-----\\n${v}\\n----\\n\")\n",
    "  }\n",
    "}"
   ]
  },
  {
   "cell_type": "markdown",
   "metadata": {},
   "source": [
    "## Load Some Data"
   ]
  },
  {
   "cell_type": "markdown",
   "metadata": {},
   "source": [
    "Load up-to-date data from the NY Times. Source: <https://github.com/nytimes/covid-19-data>."
   ]
  },
  {
   "cell_type": "code",
   "execution_count": 22,
   "metadata": {},
   "outputs": [
    {
     "data": {
      "text/plain": [
       "\u001b[36mdataLines\u001b[39m: \u001b[32mVector\u001b[39m[\u001b[32mString\u001b[39m] = \u001b[33mVector\u001b[39m(\n",
       "  \u001b[32m\"date,state,fips,cases,deaths\"\u001b[39m,\n",
       "...\n",
       "\u001b[36mbadLines\u001b[39m: \u001b[32mVector\u001b[39m[\u001b[32mString\u001b[39m] = \u001b[33mVector\u001b[39m()"
      ]
     },
     "execution_count": 22,
     "metadata": {},
     "output_type": "execute_result"
    }
   ],
   "source": [
    "val dataLines: Vector[String] = {\n",
    "    scala.io.Source.fromURL(\"https://raw.githubusercontent.com/nytimes/covid-19-data/master/us-states.csv\").mkString.split(\"\\n\").toVector\n",
    "}\n",
    "\n",
    "// quick test\n",
    "val badLines = dataLines.filter( l => {\n",
    "    l.split(\",\").size != 5\n",
    "})\n",
    "\n",
    "assert ( badLines.size == 0 )"
   ]
  },
  {
   "cell_type": "markdown",
   "metadata": {},
   "source": [
    "## Comparative Data"
   ]
  },
  {
   "cell_type": "markdown",
   "metadata": {},
   "source": [
    "Source for USA Data: [“Deaths and Mortality”, CDC](https://www.cdc.gov/nchs/fastats/deaths.htm).\n",
    "\n",
    "Source for South Carolina Data: [“Stats of the State of South Carolina”, CDC](https://www.cdc.gov/nchs/pressroom/states/southcarolina/southcarolina.htm)"
   ]
  },
  {
   "cell_type": "markdown",
   "metadata": {},
   "source": [
    "### USA\n",
    "\n",
    "Source for USA Data: [“Deaths and Mortality”, CDC](https://www.cdc.gov/nchs/fastats/deaths.htm)."
   ]
  },
  {
   "cell_type": "code",
   "execution_count": 23,
   "metadata": {},
   "outputs": [
    {
     "data": {
      "text/plain": [
       "\u001b[36musa_2017_Total_Deaths\u001b[39m: \u001b[32mInt\u001b[39m = \u001b[32m2813502\u001b[39m\n",
       "\u001b[36musa_2017_Total_Deaths_CLRD\u001b[39m: \u001b[32mInt\u001b[39m = \u001b[32m160201\u001b[39m\n",
       "\u001b[36musa_2017_Total_Deaths_IPn\u001b[39m: \u001b[32mInt\u001b[39m = \u001b[32m55672\u001b[39m\n",
       "\u001b[36musa_2017_Total_Deaths_Resp\u001b[39m: \u001b[32mInt\u001b[39m = \u001b[32m215873\u001b[39m\n",
       "\u001b[36musa_2017_Suicide_Total\u001b[39m: \u001b[32mInt\u001b[39m = \u001b[32m47173\u001b[39m\n",
       "\u001b[36musa_2017_Heart_Total\u001b[39m: \u001b[32mInt\u001b[39m = \u001b[32m647457\u001b[39m\n",
       "\u001b[36musa_2017_Accident_Total\u001b[39m: \u001b[32mInt\u001b[39m = \u001b[32m169936\u001b[39m\n",
       "\u001b[36musa_2017_Cancer_Total\u001b[39m: \u001b[32mInt\u001b[39m = \u001b[32m599108\u001b[39m"
      ]
     },
     "execution_count": 23,
     "metadata": {},
     "output_type": "execute_result"
    }
   ],
   "source": [
    "val usa_2017_Total_Deaths: Int = 2813502\n",
    "\n",
    "// Chronic lower respiratory diseases\n",
    "val usa_2017_Total_Deaths_CLRD: Int = 160201\n",
    "\n",
    "// Influenza and Pneumonia\n",
    "val usa_2017_Total_Deaths_IPn: Int = 55672\n",
    "\n",
    "// All respiratory-related deaths\n",
    "val usa_2017_Total_Deaths_Resp: Int = usa_2017_Total_Deaths_CLRD + usa_2017_Total_Deaths_IPn\n",
    "\n",
    "// Suicide\n",
    "val usa_2017_Suicide_Total: Int = 47173\n",
    "\n",
    "// Heart Disease\n",
    "val usa_2017_Heart_Total: Int = 647457\n",
    "\n",
    "// Accidents\n",
    "val usa_2017_Accident_Total: Int = 169936\n",
    "\n",
    "// Cancer\n",
    "val usa_2017_Cancer_Total: Int = 599108\n",
    "\n"
   ]
  },
  {
   "cell_type": "markdown",
   "metadata": {},
   "source": [
    "### South Carolina\n",
    "\n",
    "Source for 2018 South Carolina Data: [“Stats of the State of South Carolina”, CDC](https://www.cdc.gov/nchs/pressroom/states/southcarolina/southcarolina.htm) and [SC DHEC](https://www.scdhec.gov/vital-records/parentage/sc-vital-records-data-and-statistics)"
   ]
  },
  {
   "cell_type": "code",
   "execution_count": 24,
   "metadata": {},
   "outputs": [
    {
     "data": {
      "text/plain": [
       "\u001b[36msc_2018_Total_Deaths\u001b[39m: \u001b[32mInt\u001b[39m = \u001b[32m50633\u001b[39m\n",
       "\u001b[36msc_2017_Total_Deaths_CLRD\u001b[39m: \u001b[32mInt\u001b[39m = \u001b[32m2990\u001b[39m\n",
       "\u001b[36msc_2017_Total_Deaths_IPn\u001b[39m: \u001b[32mInt\u001b[39m = \u001b[32m882\u001b[39m\n",
       "\u001b[36msc_2017_Total_Deaths_All_Resp\u001b[39m: \u001b[32mInt\u001b[39m = \u001b[32m3872\u001b[39m"
      ]
     },
     "execution_count": 24,
     "metadata": {},
     "output_type": "execute_result"
    }
   ],
   "source": [
    "// Total Deaths\n",
    "val sc_2018_Total_Deaths: Int = 50633\n",
    "\n",
    "// Chronic Lower Respiratory Disease\n",
    "val sc_2017_Total_Deaths_CLRD: Int = 2990\n",
    "\n",
    "// Influenza and Pneumonia\n",
    "val sc_2017_Total_Deaths_IPn: Int = 882\n",
    "\n",
    "// All Respiratory-Related Deaths\n",
    "val sc_2017_Total_Deaths_All_Resp = sc_2017_Total_Deaths_CLRD + sc_2017_Total_Deaths_IPn"
   ]
  },
  {
   "cell_type": "markdown",
   "metadata": {},
   "source": [
    "## Make Data Structures"
   ]
  },
  {
   "cell_type": "markdown",
   "metadata": {},
   "source": [
    "For State data-points from the NY Times:"
   ]
  },
  {
   "cell_type": "code",
   "execution_count": 25,
   "metadata": {},
   "outputs": [
    {
     "data": {
      "text/plain": [
       "defined \u001b[32mclass\u001b[39m \u001b[36mStateDatum\u001b[39m"
      ]
     },
     "execution_count": 25,
     "metadata": {},
     "output_type": "execute_result"
    }
   ],
   "source": [
    "case class StateDatum( date: String, state: String, cases: Int, deaths: Int)"
   ]
  },
  {
   "cell_type": "markdown",
   "metadata": {},
   "source": [
    "For Aggregate data (just a Vector of the above):"
   ]
  },
  {
   "cell_type": "code",
   "execution_count": 26,
   "metadata": {},
   "outputs": [
    {
     "data": {
      "text/plain": [
       "defined \u001b[32mclass\u001b[39m \u001b[36mRunningTally\u001b[39m"
      ]
     },
     "execution_count": 26,
     "metadata": {},
     "output_type": "execute_result"
    }
   ],
   "source": [
    "case class RunningTally( days: Vector[StateDatum] )"
   ]
  },
  {
   "cell_type": "markdown",
   "metadata": {},
   "source": [
    "A daily snapshot (for the USA or a single state)"
   ]
  },
  {
   "cell_type": "code",
   "execution_count": 27,
   "metadata": {},
   "outputs": [
    {
     "data": {
      "text/plain": [
       "defined \u001b[32mclass\u001b[39m \u001b[36mDailySnapshot\u001b[39m"
      ]
     },
     "execution_count": 27,
     "metadata": {},
     "output_type": "execute_result"
    }
   ],
   "source": [
    "case class DailySnapshot( date: String, newCases: Int, newDeaths: Int, totalCases: Int, totalDeaths: Int)"
   ]
  },
  {
   "cell_type": "markdown",
   "metadata": {},
   "source": [
    "## Load Data"
   ]
  },
  {
   "cell_type": "code",
   "execution_count": 28,
   "metadata": {},
   "outputs": [
    {
     "data": {
      "text/plain": [
       "\u001b[36mvst\u001b[39m: \u001b[32mVector\u001b[39m[\u001b[32mStateDatum\u001b[39m] = \u001b[33mVector\u001b[39m(\n",
       "  \u001b[33mStateDatum\u001b[39m(\u001b[32m\"2020-01-21\"\u001b[39m, \u001b[32m\"Washington\"\u001b[39m, \u001b[32m1\u001b[39m, \u001b[32m0\u001b[39m),\n",
       "...\n",
       "\u001b[36mrt\u001b[39m: \u001b[32mRunningTally\u001b[39m = \u001b[33mRunningTally\u001b[39m(\n",
       "  \u001b[33mVector\u001b[39m(\n",
       "..."
      ]
     },
     "execution_count": 28,
     "metadata": {},
     "output_type": "execute_result"
    }
   ],
   "source": [
    "val vst: Vector[StateDatum] = dataLines.tail.map( dl => {\n",
    "    val fields: Vector[String] = dl.split(\",\").toVector\n",
    "    val date: String = fields(0)\n",
    "    val state: String = fields(1)\n",
    "    val cases: Int = fields(3).toInt\n",
    "    val deaths: Int = fields(4).toInt\n",
    "    StateDatum(date, state, cases, deaths)\n",
    "})\n",
    "\n",
    "val rt = RunningTally(vst)\n"
   ]
  },
  {
   "cell_type": "markdown",
   "metadata": {},
   "source": [
    "## Data Functions"
   ]
  },
  {
   "cell_type": "markdown",
   "metadata": {},
   "source": [
    "Taking, by default, our running-tally data (`rt`) and an optional `Option[String]` that can specify a state (defaults to `None`), return a `Vector[DailySnapshot]`, which will include new cases, new deaths, total cases, and total deaths."
   ]
  },
  {
   "cell_type": "code",
   "execution_count": 29,
   "metadata": {},
   "outputs": [
    {
     "data": {
      "text/plain": [
       "defined \u001b[32mfunction\u001b[39m \u001b[36mtotalNewDaily\u001b[39m"
      ]
     },
     "execution_count": 29,
     "metadata": {},
     "output_type": "execute_result"
    }
   ],
   "source": [
    "def totalNewDaily(data: Vector[StateDatum] = rt.days, state: Option[String] = None): Vector[DailySnapshot] = {\n",
    "    val sortedData: Vector[StateDatum] = {\n",
    "        val filtered: Vector[StateDatum] = {\n",
    "            state match {\n",
    "                case Some(s) => data.filter(_.state == s)\n",
    "                case None => {\n",
    "                    val groupedByDay: Vector[(String, Vector[StateDatum])] = {\n",
    "                        data.groupBy(_.date).toVector\n",
    "                    }\n",
    "                    val merged: Vector[StateDatum] = groupedByDay.map( gbd => {\n",
    "                        val vec = gbd._2\n",
    "                        val vecDate: String = vec.head.date\n",
    "                        val vecState: String = \"USA\"\n",
    "                        val vecCases: Int = vec.map(_.cases).sum\n",
    "                        val vecDeaths: Int = vec.map(_.deaths).sum\n",
    "                        StateDatum(vecDate, vecState, vecCases, vecDeaths)\n",
    "                    })\n",
    "                    merged\n",
    "                }\n",
    "            }\n",
    "        }\n",
    "        val sorted: Vector[StateDatum] = filtered.sortBy(_.date)\n",
    "        sorted\n",
    "    }\n",
    "    // We don't want a running, cumulative tally, but new cases/deaths each day\n",
    "    sortedData.zipWithIndex.map( sd => {\n",
    "        val d: StateDatum = sd._1\n",
    "        val i: Int = sd._2\n",
    "        val newCases: Int = {\n",
    "            if (i == 0) d.cases\n",
    "            else {\n",
    "                val totalToday: Int = d.cases\n",
    "                val totalPrev: Int = {\n",
    "                    sortedData(i-1).cases\n",
    "                }\n",
    "                totalToday - totalPrev\n",
    "            }\n",
    "        }\n",
    "        val newDeaths: Int = {\n",
    "            if (i == 0) d.deaths\n",
    "            else {\n",
    "                val totalToday: Int = d.deaths\n",
    "                val totalPrev: Int = {\n",
    "                    sortedData(i-1).deaths\n",
    "                }\n",
    "                totalToday - totalPrev\n",
    "            }\n",
    "        }\n",
    "        DailySnapshot(d.date, newCases, newDeaths, d.cases, d.deaths)\n",
    "    })\n",
    "    \n",
    "}"
   ]
  },
  {
   "cell_type": "markdown",
   "metadata": {},
   "source": [
    "## Compare Any Three States: Total Deaths\n",
    "\n",
    "Editd the value for `states`, immediately below, to specify three states to compare."
   ]
  },
  {
   "cell_type": "code",
   "execution_count": 47,
   "metadata": {},
   "outputs": [
    {
     "data": {
      "application/vnd.plotly.v1+json": {
       "data": [
        {
         "marker": {
          "color": "rgba(204, 0, 0, 0.95)"
         },
         "mode": "lines",
         "name": "Washington",
         "type": "scatter",
         "x": [
          1,
          2,
          3,
          4,
          5,
          6,
          7,
          8,
          9,
          10,
          11,
          12,
          13,
          14,
          15,
          16,
          17,
          18,
          19,
          20,
          21,
          22,
          23,
          24,
          25,
          26,
          27,
          28,
          29,
          30,
          31,
          32,
          33,
          34,
          35,
          36,
          37,
          38,
          39,
          40,
          41,
          42,
          43,
          44,
          45,
          46,
          47,
          48,
          49,
          50,
          51,
          52,
          53,
          54,
          55,
          56,
          57,
          58,
          59,
          60,
          61,
          62,
          63,
          64,
          65,
          66,
          67,
          68,
          69,
          70,
          71,
          72,
          73,
          74,
          75,
          76,
          77,
          78,
          79
         ],
         "y": [
          0,
          0,
          0,
          0,
          0,
          0,
          0,
          0,
          0,
          0,
          0,
          0,
          0,
          0,
          0,
          0,
          0,
          0,
          0,
          0,
          0,
          0,
          0,
          0,
          0,
          0,
          0,
          0,
          0,
          0,
          0,
          0,
          0,
          0,
          0,
          0,
          0,
          0,
          0,
          1,
          3,
          6,
          10,
          11,
          11,
          12,
          16,
          19,
          22,
          24,
          29,
          32,
          37,
          40,
          42,
          48,
          54,
          68,
          75,
          83,
          95,
          97,
          110,
          123,
          130,
          151,
          177,
          191,
          207,
          221,
          226,
          249,
          272,
          293,
          318,
          344,
          383,
          409,
          454
         ]
        },
        {
         "marker": {
          "color": "rgba(0, 0, 204, 0.95)"
         },
         "mode": "lines",
         "name": "New York",
         "type": "scatter",
         "x": [
          1,
          2,
          3,
          4,
          5,
          6,
          7,
          8,
          9,
          10,
          11,
          12,
          13,
          14,
          15,
          16,
          17,
          18,
          19,
          20,
          21,
          22,
          23,
          24,
          25,
          26,
          27,
          28,
          29,
          30,
          31,
          32,
          33,
          34,
          35,
          36,
          37,
          38,
          39,
          40,
          41,
          42,
          43,
          44,
          45,
          46,
          47,
          48,
          49,
          50,
          51,
          52,
          53,
          54,
          55,
          56,
          57,
          58,
          59,
          60,
          61,
          62,
          63,
          64,
          65,
          66,
          67,
          68,
          69,
          70,
          71,
          72,
          73,
          74,
          75,
          76,
          77,
          78,
          79
         ],
         "y": [
          0,
          0,
          0,
          0,
          0,
          0,
          0,
          0,
          0,
          0,
          0,
          0,
          0,
          0,
          0,
          0,
          0,
          0,
          0,
          0,
          0,
          0,
          0,
          0,
          0,
          0,
          0,
          0,
          0,
          0,
          0,
          0,
          0,
          0,
          0,
          0,
          0,
          0,
          0,
          0,
          0,
          0,
          0,
          0,
          0,
          0,
          0,
          0,
          0,
          0,
          0,
          0,
          0,
          2,
          6,
          10,
          17,
          27,
          30,
          57,
          80,
          122,
          159,
          218,
          325,
          432,
          535,
          782,
          965,
          1224,
          1550,
          1941,
          2653,
          2935,
          3568,
          4161,
          4758,
          5563,
          6268
         ]
        },
        {
         "marker": {
          "color": "rgba(0, 204, 0, 0.95)"
         },
         "mode": "lines",
         "name": "Louisiana",
         "type": "scatter",
         "x": [
          1,
          2,
          3,
          4,
          5,
          6,
          7,
          8,
          9,
          10,
          11,
          12,
          13,
          14,
          15,
          16,
          17,
          18,
          19,
          20,
          21,
          22,
          23,
          24,
          25,
          26,
          27,
          28,
          29,
          30,
          31,
          32,
          33,
          34,
          35,
          36,
          37,
          38,
          39,
          40,
          41,
          42,
          43,
          44,
          45,
          46,
          47,
          48,
          49,
          50,
          51,
          52,
          53,
          54,
          55,
          56,
          57,
          58,
          59,
          60,
          61,
          62,
          63,
          64,
          65,
          66,
          67,
          68,
          69,
          70,
          71,
          72,
          73,
          74,
          75,
          76,
          77,
          78,
          79
         ],
         "y": [
          0,
          0,
          0,
          0,
          0,
          0,
          0,
          0,
          0,
          0,
          0,
          0,
          0,
          0,
          0,
          0,
          0,
          0,
          0,
          0,
          0,
          0,
          0,
          0,
          0,
          0,
          0,
          0,
          0,
          0,
          0,
          0,
          0,
          0,
          0,
          0,
          0,
          0,
          0,
          0,
          0,
          0,
          0,
          0,
          0,
          0,
          0,
          0,
          0,
          0,
          0,
          0,
          0,
          1,
          2,
          3,
          5,
          7,
          10,
          10,
          16,
          20,
          34,
          46,
          65,
          83,
          119,
          137,
          152,
          186,
          240,
          273,
          310,
          370,
          412,
          477,
          512,
          582,
          652
         ]
        }
       ],
       "layout": {
        "title": "COVID-19 Deaths: Washington, New York, Louisiana"
       }
      },
      "text/html": [
       "<div class=\"chart\" id=\"plot-fb5482cb-1781-4fcb-87d4-109bbb80efcb\"></div>\n",
       "<script>require(['plotly'], function(Plotly) {\n",
       "  (function () {\n",
       "  var data0 = {\"x\":[1.0,2.0,3.0,4.0,5.0,6.0,7.0,8.0,9.0,10.0,11.0,12.0,13.0,14.0,15.0,16.0,17.0,18.0,19.0,20.0,21.0,22.0,23.0,24.0,25.0,26.0,27.0,28.0,29.0,30.0,31.0,32.0,33.0,34.0,35.0,36.0,37.0,38.0,39.0,40.0,41.0,42.0,43.0,44.0,45.0,46.0,47.0,48.0,49.0,50.0,51.0,52.0,53.0,54.0,55.0,56.0,57.0,58.0,59.0,60.0,61.0,62.0,63.0,64.0,65.0,66.0,67.0,68.0,69.0,70.0,71.0,72.0,73.0,74.0,75.0,76.0,77.0,78.0,79.0],\"name\":\"Washington\",\"y\":[0.0,0.0,0.0,0.0,0.0,0.0,0.0,0.0,0.0,0.0,0.0,0.0,0.0,0.0,0.0,0.0,0.0,0.0,0.0,0.0,0.0,0.0,0.0,0.0,0.0,0.0,0.0,0.0,0.0,0.0,0.0,0.0,0.0,0.0,0.0,0.0,0.0,0.0,0.0,1.0,3.0,6.0,10.0,11.0,11.0,12.0,16.0,19.0,22.0,24.0,29.0,32.0,37.0,40.0,42.0,48.0,54.0,68.0,75.0,83.0,95.0,97.0,110.0,123.0,130.0,151.0,177.0,191.0,207.0,221.0,226.0,249.0,272.0,293.0,318.0,344.0,383.0,409.0,454.0],\"marker\":{\"color\":\"rgba(204, 0, 0, 0.95)\"},\"mode\":\"lines\",\"type\":\"scatter\"};\n",
       "  var data1 = {\"x\":[1.0,2.0,3.0,4.0,5.0,6.0,7.0,8.0,9.0,10.0,11.0,12.0,13.0,14.0,15.0,16.0,17.0,18.0,19.0,20.0,21.0,22.0,23.0,24.0,25.0,26.0,27.0,28.0,29.0,30.0,31.0,32.0,33.0,34.0,35.0,36.0,37.0,38.0,39.0,40.0,41.0,42.0,43.0,44.0,45.0,46.0,47.0,48.0,49.0,50.0,51.0,52.0,53.0,54.0,55.0,56.0,57.0,58.0,59.0,60.0,61.0,62.0,63.0,64.0,65.0,66.0,67.0,68.0,69.0,70.0,71.0,72.0,73.0,74.0,75.0,76.0,77.0,78.0,79.0],\"name\":\"New York\",\"y\":[0.0,0.0,0.0,0.0,0.0,0.0,0.0,0.0,0.0,0.0,0.0,0.0,0.0,0.0,0.0,0.0,0.0,0.0,0.0,0.0,0.0,0.0,0.0,0.0,0.0,0.0,0.0,0.0,0.0,0.0,0.0,0.0,0.0,0.0,0.0,0.0,0.0,0.0,0.0,0.0,0.0,0.0,0.0,0.0,0.0,0.0,0.0,0.0,0.0,0.0,0.0,0.0,0.0,2.0,6.0,10.0,17.0,27.0,30.0,57.0,80.0,122.0,159.0,218.0,325.0,432.0,535.0,782.0,965.0,1224.0,1550.0,1941.0,2653.0,2935.0,3568.0,4161.0,4758.0,5563.0,6268.0],\"marker\":{\"color\":\"rgba(0, 0, 204, 0.95)\"},\"mode\":\"lines\",\"type\":\"scatter\"};\n",
       "  var data2 = {\"x\":[1.0,2.0,3.0,4.0,5.0,6.0,7.0,8.0,9.0,10.0,11.0,12.0,13.0,14.0,15.0,16.0,17.0,18.0,19.0,20.0,21.0,22.0,23.0,24.0,25.0,26.0,27.0,28.0,29.0,30.0,31.0,32.0,33.0,34.0,35.0,36.0,37.0,38.0,39.0,40.0,41.0,42.0,43.0,44.0,45.0,46.0,47.0,48.0,49.0,50.0,51.0,52.0,53.0,54.0,55.0,56.0,57.0,58.0,59.0,60.0,61.0,62.0,63.0,64.0,65.0,66.0,67.0,68.0,69.0,70.0,71.0,72.0,73.0,74.0,75.0,76.0,77.0,78.0,79.0],\"name\":\"Louisiana\",\"y\":[0.0,0.0,0.0,0.0,0.0,0.0,0.0,0.0,0.0,0.0,0.0,0.0,0.0,0.0,0.0,0.0,0.0,0.0,0.0,0.0,0.0,0.0,0.0,0.0,0.0,0.0,0.0,0.0,0.0,0.0,0.0,0.0,0.0,0.0,0.0,0.0,0.0,0.0,0.0,0.0,0.0,0.0,0.0,0.0,0.0,0.0,0.0,0.0,0.0,0.0,0.0,0.0,0.0,1.0,2.0,3.0,5.0,7.0,10.0,10.0,16.0,20.0,34.0,46.0,65.0,83.0,119.0,137.0,152.0,186.0,240.0,273.0,310.0,370.0,412.0,477.0,512.0,582.0,652.0],\"marker\":{\"color\":\"rgba(0, 204, 0, 0.95)\"},\"mode\":\"lines\",\"type\":\"scatter\"};\n",
       "\n",
       "  var data = [data0, data1, data2];\n",
       "  var layout = {\"title\":\"COVID-19 Deaths: Washington, New York, Louisiana\"};\n",
       "\n",
       "  Plotly.plot('plot-fb5482cb-1781-4fcb-87d4-109bbb80efcb', data, layout);\n",
       "})();\n",
       "});\n",
       "      </script>\n",
       "           "
      ]
     },
     "metadata": {},
     "output_type": "display_data"
    },
    {
     "data": {
      "text/plain": [
       "\u001b[36mstates\u001b[39m: \u001b[32mVector\u001b[39m[\u001b[32mString\u001b[39m] = \u001b[33mVector\u001b[39m(\u001b[32m\"Washington\"\u001b[39m, \u001b[32m\"New York\"\u001b[39m, \u001b[32m\"Louisiana\"\u001b[39m)\n",
       "defined \u001b[32mclass\u001b[39m \u001b[36mStateNumbers\u001b[39m\n",
       "defined \u001b[32mfunction\u001b[39m \u001b[36mpadVector\u001b[39m\n",
       "\u001b[36mstate_death_vec\u001b[39m: \u001b[32mVector\u001b[39m[\u001b[32mStateNumbers\u001b[39m] = \u001b[33mVector\u001b[39m(\n",
       "  \u001b[33mStateNumbers\u001b[39m(\n",
       "...\n",
       "\u001b[36mstate_death_vec_normalized\u001b[39m: \u001b[32mVector\u001b[39m[\u001b[32mStateNumbers\u001b[39m] = \u001b[33mVector\u001b[39m(\n",
       "  \u001b[33mStateNumbers\u001b[39m(\n",
       "...\n",
       "\u001b[36mcolors\u001b[39m: \u001b[32mVector\u001b[39m[(\u001b[32mInt\u001b[39m, \u001b[32mInt\u001b[39m, \u001b[32mInt\u001b[39m, \u001b[32mDouble\u001b[39m)] = \u001b[33mVector\u001b[39m(\n",
       "  (\u001b[32m204\u001b[39m, \u001b[32m0\u001b[39m, \u001b[32m0\u001b[39m, \u001b[32m0.95\u001b[39m),\n",
       "...\n",
       "\u001b[36mstatePlotters\u001b[39m: \u001b[32mVector\u001b[39m[\u001b[32mScatter\u001b[39m] = \u001b[33mVector\u001b[39m(\n",
       "  \u001b[33mScatter\u001b[39m(\n",
       "...\n",
       "\u001b[36mdata\u001b[39m: \u001b[32mVector\u001b[39m[\u001b[32mScatter\u001b[39m] = \u001b[33mVector\u001b[39m(\n",
       "  \u001b[33mScatter\u001b[39m(\n",
       "...\n",
       "\u001b[36mlayout\u001b[39m: \u001b[32mLayout\u001b[39m = \u001b[33mLayout\u001b[39m(\n",
       "  \u001b[33mSome\u001b[39m(\u001b[32m\"COVID-19 Deaths: Washington, New York, Louisiana\"\u001b[39m),\n",
       "...\n",
       "\u001b[36mres46_9\u001b[39m: \u001b[32mString\u001b[39m = \u001b[32m\"plot-fb5482cb-1781-4fcb-87d4-109bbb80efcb\"\u001b[39m"
      ]
     },
     "execution_count": 47,
     "metadata": {},
     "output_type": "execute_result"
    }
   ],
   "source": [
    "val states:Vector[String] = Vector(\n",
    "    \"Washington\",\n",
    "    \"New York\",\n",
    "    \"Louisiana\"\n",
    ")\n",
    "\n",
    "case class StateNumbers(index: Int, state:String, nums:Vector[Int])\n",
    "\n",
    "// We need to start all the states on the same day…\n",
    "def padVector(shortVector: Vector[Int], maxSize: Int): Vector[Int] = {\n",
    "    Vector(1)\n",
    "}\n",
    "\n",
    "// Get a data for each state\n",
    "val state_death_vec: Vector[StateNumbers] = states.zipWithIndex.map( z => {\n",
    "    val s: String = z._1\n",
    "    val i: Int = z._2\n",
    "    StateNumbers(i, s, totalNewDaily(state = Some(s)).map(_.totalDeaths))\n",
    "})\n",
    "\n",
    "// Normalize the size\n",
    "val state_death_vec_normalized: Vector[StateNumbers] = {\n",
    "    val maxSize = state_death_vec.sortBy(_.nums.size).last.nums.size\n",
    "    state_death_vec.map( sdv => {\n",
    "        val s = sdv.state\n",
    "        val n = sdv.nums\n",
    "        val i = sdv.index\n",
    "        val howMany = maxSize - n.size\n",
    "        val adder = Vector.fill(howMany)(0)\n",
    "        val newN = adder ++ n\n",
    "        StateNumbers(i, s, newN)\n",
    "    })\n",
    "}\n",
    "\n",
    "val colors: Vector[(Int, Int, Int, Double)] = {\n",
    "    Vector(\n",
    "        (204,0,0,0.95),\n",
    "        (0,0,204,0.95),\n",
    "        (0,204,0,0.95),\n",
    "    )\n",
    "}\n",
    "\n",
    "val statePlotters: Vector[Scatter] = state_death_vec_normalized.map( sd => {\n",
    "    Scatter(\n",
    "  (1 to sd.nums.size),\n",
    "  sd.nums,\n",
    "  name = s\"${sd.state}\",\n",
    "  mode = ScatterMode(ScatterMode.Lines),\n",
    "  marker = Marker(\n",
    "    color = Color.RGBA(\n",
    "        colors(sd.index)._1,\n",
    "        colors(sd.index)._2,\n",
    "        colors(sd.index)._3,\n",
    "        colors(sd.index)._4\n",
    "    ),\n",
    "  )\n",
    ")\n",
    "})\n",
    "\n",
    "val data = statePlotters\n",
    "\n",
    "val layout = Layout(\"COVID-19 Deaths: \" + states.mkString(\", \"))\n",
    "\n",
    "plot(data, layout)\n",
    "\n",
    "/*\n",
    "val total_deaths_0: Vector[Int] = totalNewDaily(state = None).map(_.totalDeaths)\n",
    "\n",
    "val curve_total_deaths_trace = Scatter(\n",
    "  (1 to curve_total_deaths.size),\n",
    "  curve_total_deaths,\n",
    "  name = \"2020 Covid Death-Toll\",\n",
    "  mode = ScatterMode(ScatterMode.Lines),\n",
    "  marker = Marker(\n",
    "    color = Color.RGBA(204, 0, 0, 0.95),\n",
    "    line = Line(\n",
    "      color = Color.RGBA(217, 217, 217, 1.0),\n",
    "      width = 1.0\n",
    "    ),\n",
    "    symbol = Symbol.Circle(),\n",
    "    size = 3\n",
    "  )\n",
    ")\n",
    "\n",
    "val data = Seq(curve_total_deaths_trace)\n",
    "\n",
    "val layout = Layout(\"Total US Deaths\")\n",
    "\n",
    "plot(data, layout)\n",
    "*/"
   ]
  },
  {
   "cell_type": "markdown",
   "metadata": {},
   "source": [
    "## South Carolina Data\n",
    "\n",
    "Source for 2018 South Carolina Data: [“Stats of the State of South Carolina”, CDC](https://www.cdc.gov/nchs/pressroom/states/southcarolina/southcarolina.htm) and [SC DHEC](https://www.scdhec.gov/vital-records/parentage/sc-vital-records-data-and-statistics)"
   ]
  },
  {
   "cell_type": "code",
   "execution_count": 52,
   "metadata": {},
   "outputs": [
    {
     "data": {
      "text/plain": [
       "\u001b[36msc_2018_Total_Deaths\u001b[39m: \u001b[32mInt\u001b[39m = \u001b[32m50633\u001b[39m\n",
       "\u001b[36msc_2017_Total_Deaths_CLRD\u001b[39m: \u001b[32mInt\u001b[39m = \u001b[32m2990\u001b[39m\n",
       "\u001b[36msc_2017_Total_Deaths_IPn\u001b[39m: \u001b[32mInt\u001b[39m = \u001b[32m882\u001b[39m\n",
       "\u001b[36msc_2017_Total_Deaths_All_Resp\u001b[39m: \u001b[32mInt\u001b[39m = \u001b[32m3872\u001b[39m\n",
       "\u001b[36msc_covid_death_toll\u001b[39m: \u001b[32mVector\u001b[39m[\u001b[32mInt\u001b[39m] = \u001b[33mVector\u001b[39m(\n",
       "  \u001b[32m0\u001b[39m,\n",
       "...\n",
       "\u001b[36msc_covid_total_cases\u001b[39m: \u001b[32mVector\u001b[39m[\u001b[32mInt\u001b[39m] = \u001b[33mVector\u001b[39m(\n",
       "  \u001b[32m2\u001b[39m,\n",
       "..."
      ]
     },
     "execution_count": 52,
     "metadata": {},
     "output_type": "execute_result"
    }
   ],
   "source": [
    "// Total Deaths\n",
    "val sc_2018_Total_Deaths: Int = 50633\n",
    "\n",
    "// Chronic Lower Respiratory Disease\n",
    "val sc_2017_Total_Deaths_CLRD: Int = 2990\n",
    "\n",
    "// Influenza and Pneumonia\n",
    "val sc_2017_Total_Deaths_IPn: Int = 882\n",
    "\n",
    "// All Respiratory-Related Deaths\n",
    "val sc_2017_Total_Deaths_All_Resp = sc_2017_Total_Deaths_CLRD + sc_2017_Total_Deaths_IPn\n",
    "\n",
    "// SC Covid Death Toll\n",
    "val sc_covid_death_toll = totalNewDaily(state = Some(\"South Carolina\")).map(_.totalDeaths)\n",
    "\n",
    "// SC Total Cases\n",
    "val sc_covid_total_cases = totalNewDaily(state = Some(\"South Carolina\")).map(_.totalCases)\n",
    "\n",
    "\n"
   ]
  },
  {
   "cell_type": "markdown",
   "metadata": {},
   "source": [
    "## SC: COVID vs. Flu-Season"
   ]
  },
  {
   "cell_type": "markdown",
   "metadata": {},
   "source": [
    "Throughout a year like 2017, the death-toll for Influenzas and Pneumonias mounts, day to day. Here we chart that death-toll, assuming the annual deaths are evenly distributed across the year. \n",
    "\n",
    "But the flu-season is, as defined by the CDC, 6 months, from October through March. So we can also compare daily flu deaths and their mounting toll, over a six-month season.\n",
    "\n",
    "Source for 2018 South Carolina Data: [“Stats of the State of South Carolina”, CDC](https://www.cdc.gov/nchs/pressroom/states/southcarolina/southcarolina.htm) and [SC DHEC](https://www.scdhec.gov/vital-records/parentage/sc-vital-records-data-and-statistics)"
   ]
  },
  {
   "cell_type": "code",
   "execution_count": 51,
   "metadata": {},
   "outputs": [
    {
     "data": {
      "application/vnd.plotly.v1+json": {
       "data": [
        {
         "marker": {
          "color": "rgba(204, 204, 0, 0.95)",
          "line": {
           "color": "rgba(217, 217, 217, 1.0)",
           "width": 1
          },
          "size": 3,
          "symbol": "circle"
         },
         "mode": "lines",
         "name": "2018 Influenza Deaths",
         "type": "scatter",
         "x": [
          1,
          2,
          3,
          4,
          5,
          6,
          7,
          8,
          9,
          10,
          11,
          12,
          13,
          14,
          15,
          16,
          17,
          18,
          19,
          20,
          21,
          22,
          23,
          24,
          25,
          26,
          27,
          28,
          29,
          30,
          31,
          32,
          33,
          34
         ],
         "y": [
          2,
          4,
          6,
          8,
          10,
          12,
          14,
          16,
          18,
          20,
          22,
          24,
          26,
          28,
          30,
          32,
          34,
          36,
          38,
          40,
          42,
          44,
          46,
          48,
          50,
          52,
          54,
          56,
          58,
          60,
          62,
          64,
          66,
          68
         ]
        },
        {
         "marker": {
          "color": "rgba(0, 204, 204, 0.95)",
          "line": {
           "color": "rgba(217, 217, 217, 1.0)",
           "width": 1
          },
          "size": 3,
          "symbol": "circle"
         },
         "mode": "lines",
         "name": "2018 Influenza Deaths (6 mo. season)",
         "type": "scatter",
         "x": [
          1,
          2,
          3,
          4,
          5,
          6,
          7,
          8,
          9,
          10,
          11,
          12,
          13,
          14,
          15,
          16,
          17,
          18,
          19,
          20,
          21,
          22,
          23,
          24,
          25,
          26,
          27,
          28,
          29,
          30,
          31,
          32,
          33,
          34
         ],
         "y": [
          4,
          8,
          12,
          16,
          20,
          24,
          28,
          32,
          36,
          40,
          44,
          48,
          52,
          56,
          60,
          64,
          68,
          72,
          76,
          80,
          84,
          88,
          92,
          96,
          100,
          104,
          108,
          112,
          116,
          120,
          124,
          128,
          132,
          136
         ]
        },
        {
         "marker": {
          "color": "rgba(0, 0, 204, 0.95)",
          "line": {
           "color": "rgba(217, 217, 217, 1.0)",
           "width": 1
          },
          "size": 3,
          "symbol": "circle"
         },
         "mode": "lines",
         "name": "2020 Covid Deaths",
         "type": "scatter",
         "x": [
          1,
          2,
          3,
          4,
          5,
          6,
          7,
          8,
          9,
          10,
          11,
          12,
          13,
          14,
          15,
          16,
          17,
          18,
          19,
          20,
          21,
          22,
          23,
          24,
          25,
          26,
          27,
          28,
          29,
          30,
          31,
          32,
          33,
          34
         ],
         "y": [
          0,
          0,
          0,
          0,
          0,
          0,
          0,
          0,
          0,
          0,
          1,
          1,
          1,
          1,
          3,
          3,
          3,
          5,
          7,
          7,
          9,
          13,
          15,
          16,
          18,
          22,
          26,
          31,
          34,
          40,
          44,
          48,
          51,
          63
         ]
        }
       ],
       "layout": {
        "title": "COVID Death Toll vs. Flu Season, 2018"
       }
      },
      "text/html": [
       "<div class=\"chart\" id=\"plot-cd67cda4-d14b-49b1-ba05-0bfbe862157a\"></div>\n",
       "<script>require(['plotly'], function(Plotly) {\n",
       "  (function () {\n",
       "  var data0 = {\"x\":[1.0,2.0,3.0,4.0,5.0,6.0,7.0,8.0,9.0,10.0,11.0,12.0,13.0,14.0,15.0,16.0,17.0,18.0,19.0,20.0,21.0,22.0,23.0,24.0,25.0,26.0,27.0,28.0,29.0,30.0,31.0,32.0,33.0,34.0],\"name\":\"2018 Influenza Deaths\",\"y\":[2.0,4.0,6.0,8.0,10.0,12.0,14.0,16.0,18.0,20.0,22.0,24.0,26.0,28.0,30.0,32.0,34.0,36.0,38.0,40.0,42.0,44.0,46.0,48.0,50.0,52.0,54.0,56.0,58.0,60.0,62.0,64.0,66.0,68.0],\"marker\":{\"size\":3,\"line\":{\"color\":\"rgba(217, 217, 217, 1.0)\",\"width\":1.0},\"color\":\"rgba(204, 204, 0, 0.95)\",\"symbol\":\"circle\"},\"mode\":\"lines\",\"type\":\"scatter\"};\n",
       "  var data1 = {\"x\":[1.0,2.0,3.0,4.0,5.0,6.0,7.0,8.0,9.0,10.0,11.0,12.0,13.0,14.0,15.0,16.0,17.0,18.0,19.0,20.0,21.0,22.0,23.0,24.0,25.0,26.0,27.0,28.0,29.0,30.0,31.0,32.0,33.0,34.0],\"name\":\"2018 Influenza Deaths (6 mo. season)\",\"y\":[4.0,8.0,12.0,16.0,20.0,24.0,28.0,32.0,36.0,40.0,44.0,48.0,52.0,56.0,60.0,64.0,68.0,72.0,76.0,80.0,84.0,88.0,92.0,96.0,100.0,104.0,108.0,112.0,116.0,120.0,124.0,128.0,132.0,136.0],\"marker\":{\"size\":3,\"line\":{\"color\":\"rgba(217, 217, 217, 1.0)\",\"width\":1.0},\"color\":\"rgba(0, 204, 204, 0.95)\",\"symbol\":\"circle\"},\"mode\":\"lines\",\"type\":\"scatter\"};\n",
       "  var data2 = {\"x\":[1.0,2.0,3.0,4.0,5.0,6.0,7.0,8.0,9.0,10.0,11.0,12.0,13.0,14.0,15.0,16.0,17.0,18.0,19.0,20.0,21.0,22.0,23.0,24.0,25.0,26.0,27.0,28.0,29.0,30.0,31.0,32.0,33.0,34.0],\"name\":\"2020 Covid Deaths\",\"y\":[0.0,0.0,0.0,0.0,0.0,0.0,0.0,0.0,0.0,0.0,1.0,1.0,1.0,1.0,3.0,3.0,3.0,5.0,7.0,7.0,9.0,13.0,15.0,16.0,18.0,22.0,26.0,31.0,34.0,40.0,44.0,48.0,51.0,63.0],\"marker\":{\"size\":3,\"line\":{\"color\":\"rgba(217, 217, 217, 1.0)\",\"width\":1.0},\"color\":\"rgba(0, 0, 204, 0.95)\",\"symbol\":\"circle\"},\"mode\":\"lines\",\"type\":\"scatter\"};\n",
       "\n",
       "  var data = [data0, data1, data2];\n",
       "  var layout = {\"title\":\"COVID Death Toll vs. Flu Season, 2018\"};\n",
       "\n",
       "  Plotly.plot('plot-cd67cda4-d14b-49b1-ba05-0bfbe862157a', data, layout);\n",
       "})();\n",
       "});\n",
       "      </script>\n",
       "           "
      ]
     },
     "metadata": {},
     "output_type": "display_data"
    },
    {
     "data": {
      "text/plain": [
       "\u001b[36msc_2018_mounting_flu_toll\u001b[39m: \u001b[32mVector\u001b[39m[\u001b[32mInt\u001b[39m] = \u001b[33mVector\u001b[39m(\n",
       "  \u001b[32m2\u001b[39m,\n",
       "...\n",
       "\u001b[36msc_2018_mounting_flu_toll_6mo\u001b[39m: \u001b[32mVector\u001b[39m[\u001b[32mInt\u001b[39m] = \u001b[33mVector\u001b[39m(\n",
       "  \u001b[32m4\u001b[39m,\n",
       "...\n",
       "\u001b[36msc_2018_mounting_flu_toll_trace\u001b[39m: \u001b[32mScatter\u001b[39m = \u001b[33mScatter\u001b[39m(\n",
       "  \u001b[33mSome\u001b[39m(\n",
       "...\n",
       "\u001b[36msc_2018_mounting_flu_toll_6mo_trace\u001b[39m: \u001b[32mScatter\u001b[39m = \u001b[33mScatter\u001b[39m(\n",
       "  \u001b[33mSome\u001b[39m(\n",
       "...\n",
       "\u001b[36msc_2020_covid_toll_trace\u001b[39m: \u001b[32mScatter\u001b[39m = \u001b[33mScatter\u001b[39m(\n",
       "  \u001b[33mSome\u001b[39m(\n",
       "...\n",
       "\u001b[36mdata\u001b[39m: \u001b[32mSeq\u001b[39m[\u001b[32mScatter\u001b[39m] = \u001b[33mList\u001b[39m(\n",
       "  \u001b[33mScatter\u001b[39m(\n",
       "...\n",
       "\u001b[36mlayout\u001b[39m: \u001b[32mLayout\u001b[39m = \u001b[33mLayout\u001b[39m(\n",
       "  \u001b[33mSome\u001b[39m(\u001b[32m\"COVID Death Toll vs. Flu Season, 2018\"\u001b[39m),\n",
       "...\n",
       "\u001b[36mres50_7\u001b[39m: \u001b[32mString\u001b[39m = \u001b[32m\"plot-cd67cda4-d14b-49b1-ba05-0bfbe862157a\"\u001b[39m"
      ]
     },
     "execution_count": 51,
     "metadata": {},
     "output_type": "execute_result"
    }
   ],
   "source": [
    "\n",
    "\n",
    "val sc_2018_mounting_flu_toll: Vector[Int] = {\n",
    "    val daily = sc_2017_Total_Deaths_IPn / 365\n",
    "    (1 to sc_covid_death_toll.size).toVector.map( i => {\n",
    "        if (i == 1) daily\n",
    "        else daily + (daily * (i - 1))\n",
    "    })\n",
    "}\n",
    "\n",
    "val sc_2018_mounting_flu_toll_6mo: Vector[Int] = {\n",
    "    val daily = sc_2017_Total_Deaths_IPn / 365 * 2\n",
    "    (1 to sc_covid_death_toll.size).toVector.map( i => {\n",
    "        if (i == 1) daily\n",
    "        else daily + (daily * (i - 1))\n",
    "    })\n",
    "}\n",
    "\n",
    "val sc_2018_mounting_flu_toll_trace = Scatter(\n",
    "  (1 to sc_covid_death_toll.size),\n",
    "  sc_2018_mounting_flu_toll,\n",
    "  name = \"2018 Influenza Deaths\",\n",
    "  mode = ScatterMode(ScatterMode.Lines),\n",
    "  marker = Marker(\n",
    "    color = Color.RGBA(204, 204, 0, 0.95),\n",
    "    line = Line(\n",
    "      color = Color.RGBA(217, 217, 217, 1.0),\n",
    "      width = 1.0\n",
    "    ),\n",
    "    symbol = Symbol.Circle(),\n",
    "    size = 3\n",
    "  )\n",
    ")\n",
    "\n",
    "val sc_2018_mounting_flu_toll_6mo_trace = Scatter(\n",
    "  (1 to sc_covid_death_toll.size),\n",
    "  sc_2018_mounting_flu_toll_6mo,\n",
    "  name = \"2018 Influenza Deaths (6 mo. season)\",\n",
    "  mode = ScatterMode(ScatterMode.Lines),\n",
    "  marker = Marker(\n",
    "    color = Color.RGBA(0, 204, 204, 0.95),\n",
    "    line = Line(\n",
    "      color = Color.RGBA(217, 217, 217, 1.0),\n",
    "      width = 1.0\n",
    "    ),\n",
    "    symbol = Symbol.Circle(),\n",
    "    size = 3\n",
    "  )\n",
    ")\n",
    "\n",
    "val sc_2020_covid_toll_trace = Scatter(\n",
    "  (1 to sc_covid_death_toll.size),\n",
    "  sc_covid_death_toll,\n",
    "  name = \"2020 Covid Deaths\",\n",
    "  mode = ScatterMode(ScatterMode.Lines),\n",
    "  marker = Marker(\n",
    "    color = Color.RGBA(0, 0, 204, 0.95),\n",
    "    line = Line(\n",
    "      color = Color.RGBA(217, 217, 217, 1.0),\n",
    "      width = 1.0\n",
    "    ),\n",
    "    symbol = Symbol.Circle(),\n",
    "    size = 3\n",
    "  )\n",
    ")\n",
    "\n",
    "val data = Seq(\n",
    "        sc_2018_mounting_flu_toll_trace,\n",
    "        sc_2018_mounting_flu_toll_6mo_trace,\n",
    "        sc_2020_covid_toll_trace\n",
    ")\n",
    "\n",
    "val layout = Layout(\"COVID Death Toll vs. Flu Season, 2018\")\n",
    "\n",
    "plot(data, layout)"
   ]
  },
  {
   "cell_type": "markdown",
   "metadata": {},
   "source": [
    "## SC Case-Fatality-Rate\n",
    "\n",
    "A rolling calculation of deaths/cases."
   ]
  },
  {
   "cell_type": "code",
   "execution_count": 53,
   "metadata": {},
   "outputs": [
    {
     "data": {
      "application/vnd.plotly.v1+json": {
       "data": [
        {
         "marker": {
          "color": "rgba(204, 0, 0, 0.95)",
          "line": {
           "color": "rgba(217, 217, 217, 1.0)",
           "width": 1
          },
          "size": 3,
          "symbol": "circle"
         },
         "mode": "lines",
         "name": "Case Fatality Rate",
         "type": "scatter",
         "x": [
          1,
          2,
          3,
          4,
          5,
          6,
          7,
          8,
          9,
          10,
          11,
          12,
          13,
          14,
          15,
          16,
          17,
          18,
          19,
          20,
          21,
          22,
          23,
          24,
          25,
          26,
          27,
          28,
          29,
          30,
          31,
          32,
          33,
          34
         ],
         "y": [
          0,
          0,
          0,
          0,
          0,
          0,
          0,
          0,
          0,
          0,
          0.030303030303030304,
          0.02127659574468085,
          0.016666666666666666,
          0.012345679012345678,
          0.023809523809523808,
          0.01744186046511628,
          0.015463917525773196,
          0.016722408026755852,
          0.02046783625730994,
          0.01650943396226415,
          0.019736842105263157,
          0.02411873840445269,
          0.022727272727272728,
          0.020671834625323,
          0.01945945945945946,
          0.020313942751615882,
          0.020108275328692964,
          0.019948519948519948,
          0.02,
          0.020865936358894107,
          0.021473889702293802,
          0.021505376344086023,
          0.021100537856847332,
          0.02468652037617555
         ]
        }
       ],
       "layout": {
        "title": "SC: 2020 Covid CFR"
       }
      },
      "text/html": [
       "<div class=\"chart\" id=\"plot-3ffbc8b0-b5cd-4596-ba4b-13d19b027093\"></div>\n",
       "<script>require(['plotly'], function(Plotly) {\n",
       "  (function () {\n",
       "  var data0 = {\"x\":[1.0,2.0,3.0,4.0,5.0,6.0,7.0,8.0,9.0,10.0,11.0,12.0,13.0,14.0,15.0,16.0,17.0,18.0,19.0,20.0,21.0,22.0,23.0,24.0,25.0,26.0,27.0,28.0,29.0,30.0,31.0,32.0,33.0,34.0],\"name\":\"Case Fatality Rate\",\"y\":[0.0,0.0,0.0,0.0,0.0,0.0,0.0,0.0,0.0,0.0,0.030303030303030304,0.02127659574468085,0.016666666666666666,0.012345679012345678,0.023809523809523808,0.01744186046511628,0.015463917525773196,0.016722408026755852,0.02046783625730994,0.01650943396226415,0.019736842105263157,0.02411873840445269,0.022727272727272728,0.020671834625323,0.01945945945945946,0.020313942751615882,0.020108275328692964,0.019948519948519948,0.02,0.020865936358894107,0.021473889702293802,0.021505376344086023,0.021100537856847332,0.02468652037617555],\"marker\":{\"size\":3,\"line\":{\"color\":\"rgba(217, 217, 217, 1.0)\",\"width\":1.0},\"color\":\"rgba(204, 0, 0, 0.95)\",\"symbol\":\"circle\"},\"mode\":\"lines\",\"type\":\"scatter\"};\n",
       "\n",
       "  var data = [data0];\n",
       "  var layout = {\"title\":\"SC: 2020 Covid CFR\"};\n",
       "\n",
       "  Plotly.plot('plot-3ffbc8b0-b5cd-4596-ba4b-13d19b027093', data, layout);\n",
       "})();\n",
       "});\n",
       "      </script>\n",
       "           "
      ]
     },
     "metadata": {},
     "output_type": "display_data"
    },
    {
     "data": {
      "text/plain": [
       "\u001b[36mcfr\u001b[39m: \u001b[32mVector\u001b[39m[\u001b[32mDouble\u001b[39m] = \u001b[33mVector\u001b[39m(\n",
       "  \u001b[32m0.0\u001b[39m,\n",
       "...\n",
       "\u001b[36mcase_fatality_rate\u001b[39m: \u001b[32mScatter\u001b[39m = \u001b[33mScatter\u001b[39m(\n",
       "  \u001b[33mSome\u001b[39m(\n",
       "...\n",
       "\u001b[36mdata\u001b[39m: \u001b[32mSeq\u001b[39m[\u001b[32mScatter\u001b[39m] = \u001b[33mList\u001b[39m(\n",
       "  \u001b[33mScatter\u001b[39m(\n",
       "...\n",
       "\u001b[36mlayout\u001b[39m: \u001b[32mLayout\u001b[39m = \u001b[33mLayout\u001b[39m(\n",
       "  \u001b[33mSome\u001b[39m(\u001b[32m\"SC: 2020 Covid CFR\"\u001b[39m),\n",
       "...\n",
       "\u001b[36mres52_4\u001b[39m: \u001b[32mString\u001b[39m = \u001b[32m\"plot-3ffbc8b0-b5cd-4596-ba4b-13d19b027093\"\u001b[39m"
      ]
     },
     "execution_count": 53,
     "metadata": {},
     "output_type": "execute_result"
    }
   ],
   "source": [
    "val cfr: Vector[Double] = sc_covid_death_toll.zip(sc_covid_total_cases).map( c => {\n",
    "    c._1.toDouble / c._2.toDouble\n",
    "})\n",
    "\n",
    "\n",
    "val case_fatality_rate = Scatter(\n",
    "  (1 to cfr.size),\n",
    "  cfr,\n",
    "  name = \"Case Fatality Rate\",\n",
    "  mode = ScatterMode(ScatterMode.Lines),\n",
    "  marker = Marker(\n",
    "    color = Color.RGBA(204, 0, 0, 0.95),\n",
    "    line = Line(\n",
    "      color = Color.RGBA(217, 217, 217, 1.0),\n",
    "      width = 1.0\n",
    "    ),\n",
    "    symbol = Symbol.Circle(),\n",
    "    size = 3\n",
    "  )\n",
    ")\n",
    "\n",
    "val data = Seq(case_fatality_rate)\n",
    "\n",
    "val layout = Layout(\"SC: 2020 Covid CFR\")\n",
    "\n",
    "plot(data, layout)"
   ]
  },
  {
   "cell_type": "code",
   "execution_count": null,
   "metadata": {},
   "outputs": [],
   "source": []
  }
 ],
 "metadata": {
  "kernel_info": {
   "name": "scala"
  },
  "kernelspec": {
   "display_name": "Scala",
   "language": "scala",
   "name": "scala"
  },
  "language_info": {
   "codemirror_mode": "text/x-scala",
   "file_extension": ".scala",
   "mimetype": "text/x-scala",
   "name": "scala",
   "nbconvert_exporter": "script",
   "version": "2.12.10"
  },
  "nteract": {
   "version": "0.15.0"
  }
 },
 "nbformat": 4,
 "nbformat_minor": 2
}
